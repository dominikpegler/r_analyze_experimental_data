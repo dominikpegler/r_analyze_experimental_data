{
 "cells": [
  {
   "cell_type": "markdown",
   "id": "71331b05-297e-4e44-b5c7-3fb64c706399",
   "metadata": {},
   "source": [
    "class\n",
    "---\n",
    "#### Dominik Pegler\n",
    "#### 2022-05-17\n"
   ]
  },
  {
   "cell_type": "code",
   "execution_count": 4,
   "id": "e3fe099d-6826-4f90-b666-b4c76e21076d",
   "metadata": {},
   "outputs": [],
   "source": [
    "library(ggplot2)\n",
    "theme_set(theme_minimal())\n",
    "update_geom_defaults(\"bar\", list(fill = \"steelblue\"))\n",
    "library(viridis)\n",
    "\n",
    "filelist <- list.files(pattern = \".*.txt\", include.dirs = T)\n",
    "datalist <- lapply(filelist, function(x)read.table(x, header=T)) \n",
    "df <- do.call(\"rbind\", datalist)"
   ]
  },
  {
   "cell_type": "code",
   "execution_count": 6,
   "id": "74158cc6-15df-4ea8-9aea-bba824b3ee39",
   "metadata": {},
   "outputs": [
    {
     "data": {
      "text/html": [
       "<table>\n",
       "<thead><tr><th scope=col>cueShape</th><th scope=col>targetValidity</th><th scope=col>answerCorrect</th><th scope=col>reactionTime</th><th scope=col>responseKeyRed</th><th scope=col>sbj</th><th scope=col>corrRespF</th><th scope=col>corrRespJ</th><th scope=col>order</th></tr></thead>\n",
       "<tbody>\n",
       "\t<tr><td>match    </td><td>invalid  </td><td>1        </td><td>0.6871199</td><td>j        </td><td>2        </td><td>f        </td><td>j        </td><td>196      </td></tr>\n",
       "\t<tr><td>match    </td><td>invalid  </td><td>1        </td><td>0.7183994</td><td>j        </td><td>2        </td><td>f        </td><td>j        </td><td>360      </td></tr>\n",
       "\t<tr><td>match    </td><td>invalid  </td><td>1        </td><td>0.8069057</td><td>j        </td><td>2        </td><td>f        </td><td>j        </td><td>239      </td></tr>\n",
       "\t<tr><td>match    </td><td>invalid  </td><td>1        </td><td>0.4710787</td><td>j        </td><td>2        </td><td>j        </td><td>f        </td><td>527      </td></tr>\n",
       "\t<tr><td>match    </td><td>invalid  </td><td>1        </td><td>0.7015380</td><td>j        </td><td>2        </td><td>f        </td><td>j        </td><td>175      </td></tr>\n",
       "\t<tr><td>match    </td><td>invalid  </td><td>1        </td><td>0.7697956</td><td>j        </td><td>2        </td><td>j        </td><td>f        </td><td>519      </td></tr>\n",
       "</tbody>\n",
       "</table>\n"
      ],
      "text/latex": [
       "\\begin{tabular}{r|lllllllll}\n",
       " cueShape & targetValidity & answerCorrect & reactionTime & responseKeyRed & sbj & corrRespF & corrRespJ & order\\\\\n",
       "\\hline\n",
       "\t match     & invalid   & 1         & 0.6871199 & j         & 2         & f         & j         & 196      \\\\\n",
       "\t match     & invalid   & 1         & 0.7183994 & j         & 2         & f         & j         & 360      \\\\\n",
       "\t match     & invalid   & 1         & 0.8069057 & j         & 2         & f         & j         & 239      \\\\\n",
       "\t match     & invalid   & 1         & 0.4710787 & j         & 2         & j         & f         & 527      \\\\\n",
       "\t match     & invalid   & 1         & 0.7015380 & j         & 2         & f         & j         & 175      \\\\\n",
       "\t match     & invalid   & 1         & 0.7697956 & j         & 2         & j         & f         & 519      \\\\\n",
       "\\end{tabular}\n"
      ],
      "text/markdown": [
       "\n",
       "| cueShape | targetValidity | answerCorrect | reactionTime | responseKeyRed | sbj | corrRespF | corrRespJ | order |\n",
       "|---|---|---|---|---|---|---|---|---|\n",
       "| match     | invalid   | 1         | 0.6871199 | j         | 2         | f         | j         | 196       |\n",
       "| match     | invalid   | 1         | 0.7183994 | j         | 2         | f         | j         | 360       |\n",
       "| match     | invalid   | 1         | 0.8069057 | j         | 2         | f         | j         | 239       |\n",
       "| match     | invalid   | 1         | 0.4710787 | j         | 2         | j         | f         | 527       |\n",
       "| match     | invalid   | 1         | 0.7015380 | j         | 2         | f         | j         | 175       |\n",
       "| match     | invalid   | 1         | 0.7697956 | j         | 2         | j         | f         | 519       |\n",
       "\n"
      ],
      "text/plain": [
       "  cueShape targetValidity answerCorrect reactionTime responseKeyRed sbj\n",
       "1 match    invalid        1             0.6871199    j              2  \n",
       "2 match    invalid        1             0.7183994    j              2  \n",
       "3 match    invalid        1             0.8069057    j              2  \n",
       "4 match    invalid        1             0.4710787    j              2  \n",
       "5 match    invalid        1             0.7015380    j              2  \n",
       "6 match    invalid        1             0.7697956    j              2  \n",
       "  corrRespF corrRespJ order\n",
       "1 f         j         196  \n",
       "2 f         j         360  \n",
       "3 f         j         239  \n",
       "4 j         f         527  \n",
       "5 f         j         175  \n",
       "6 j         f         519  "
      ]
     },
     "metadata": {},
     "output_type": "display_data"
    }
   ],
   "source": [
    "head(df)"
   ]
  },
  {
   "cell_type": "code",
   "execution_count": 7,
   "id": "13f6d1df-7546-4c3c-ada8-27c09474f5fa",
   "metadata": {},
   "outputs": [
    {
     "ename": "ERROR",
     "evalue": "Error in library(pwr): there is no package called ‘pwr’\n",
     "output_type": "error",
     "traceback": [
      "Error in library(pwr): there is no package called ‘pwr’\nTraceback:\n",
      "1. library(pwr)"
     ]
    }
   ],
   "source": [
    "library(pwr)"
   ]
  }
 ],
 "metadata": {
  "kernelspec": {
   "display_name": "R",
   "language": "R",
   "name": "ir"
  },
  "language_info": {
   "codemirror_mode": "r",
   "file_extension": ".r",
   "mimetype": "text/x-r-source",
   "name": "R",
   "pygments_lexer": "r",
   "version": "3.6.1"
  }
 },
 "nbformat": 4,
 "nbformat_minor": 5
}
