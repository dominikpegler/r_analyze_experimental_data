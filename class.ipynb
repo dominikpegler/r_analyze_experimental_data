{
 "cells": [
  {
   "cell_type": "markdown",
   "id": "71331b05-297e-4e44-b5c7-3fb64c706399",
   "metadata": {},
   "source": [
    "class\n",
    "---\n",
    "#### Dominik Pegler\n",
    "#### 2022-05-03\n"
   ]
  },
  {
   "cell_type": "code",
   "execution_count": 10,
   "id": "e3fe099d-6826-4f90-b666-b4c76e21076d",
   "metadata": {},
   "outputs": [],
   "source": [
    "library(ggplot2)\n",
    "theme_set(theme_minimal())\n",
    "update_geom_defaults(\"bar\", list(fill = \"steelblue\"))\n",
    "library(viridis)\n",
    "\n",
    "filelist = list.files(pattern = \".*.txt\", include.dirs = T)\n",
    "datalist = lapply(filelist, function(x)read.table(x, header=T)) \n",
    "df <- do.call(\"rbind\", datalist)"
   ]
  },
  {
   "cell_type": "code",
   "execution_count": null,
   "id": "74158cc6-15df-4ea8-9aea-bba824b3ee39",
   "metadata": {},
   "outputs": [],
   "source": []
  }
 ],
 "metadata": {
  "kernelspec": {
   "display_name": "R",
   "language": "R",
   "name": "ir"
  },
  "language_info": {
   "codemirror_mode": "r",
   "file_extension": ".r",
   "mimetype": "text/x-r-source",
   "name": "R",
   "pygments_lexer": "r",
   "version": "3.6.1"
  }
 },
 "nbformat": 4,
 "nbformat_minor": 5
}
