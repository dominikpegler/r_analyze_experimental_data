{
 "cells": [
  {
   "cell_type": "markdown",
   "id": "efba5772-1055-4c08-977d-a1e6c7506e89",
   "metadata": {},
   "source": [
    "Final project\n",
    "===\n",
    "* Gruppe 3: Dominik Pegler • Elisa Grünauer • Lars Keuter\n",
    "* Experiment 2: Positive instruction\n",
    "* Anwendungsseminar: Experimentalpsychologische Daten analysieren mit R\n",
    "\n",
    "## Fragestellung\n",
    "\n",
    "Welche Validitätseffekte zeigen die Hinweisreize in der Bedingung \"Positive instruction\"?**\n",
    "\n",
    "* `key_responseTarget.corr_raw` entspricht `answerCorrect`\n",
    "* `key_responseTarget.rt_raw` entspricht `reactionTime`\n",
    "* `key_responseTarget.keys_raw` enthält die Information, welche Taste tatsächlich von den Versuchspersonen gedrückt wurde (ist aber nicht wirklich relevant)"
   ]
  },
  {
   "cell_type": "code",
   "execution_count": 176,
   "id": "e6fe4d1d-3d7a-42e2-94e0-446f16a33996",
   "metadata": {},
   "outputs": [
    {
     "name": "stdout",
     "output_type": "stream",
     "text": [
      "34560 rows"
     ]
    }
   ],
   "source": [
    "# import libraries\n",
    "library(data.table)\n",
    "library(tidyverse)\n",
    "library(viridis)\n",
    "\n",
    "# default settings ggplot\n",
    "theme_set(theme_minimal())\n",
    "update_geom_defaults(\"bar\", list(fill = \"steelblue\", alpha = 0.8))\n",
    "update_geom_defaults(\"point\", list(color = \"steelblue\", alpha = 0.8, size = 2.6))\n",
    "update_geom_defaults(\"boxplot\", list(fill = \"steelblue\", alpha = 0.8))\n",
    "\n",
    "# import data\n",
    "filelist <- list.files(path = \"final_data\", pattern = \"*.txt\", full.names = TRUE)\n",
    "datalist <- lapply(filelist, function(x)read.table(x, header=T)) \n",
    "df <- do.call(\"rbind\", datalist)\n",
    "setDT(df) # Convert data.frame to data.table\n",
    "cat(nrow(df), \"rows\")"
   ]
  },
  {
   "cell_type": "code",
   "execution_count": 177,
   "id": "497f5377-503a-45b7-b43e-0c6c9c373e9a",
   "metadata": {},
   "outputs": [
    {
     "data": {
      "text/html": [
       "<ol class=list-inline>\n",
       "\t<li>'cueType'</li>\n",
       "\t<li>'targetValidity'</li>\n",
       "\t<li>'CueDistractorPosition1'</li>\n",
       "\t<li>'cueDistractor2_Position'</li>\n",
       "\t<li>'cueDistractor3_Position'</li>\n",
       "\t<li>'InhibitionDistractor'</li>\n",
       "\t<li>'Target'</li>\n",
       "\t<li>'TargetColor'</li>\n",
       "\t<li>'gap_topleft'</li>\n",
       "\t<li>'gap_topright'</li>\n",
       "\t<li>'gap_bottomright'</li>\n",
       "\t<li>'gap_bottomleft'</li>\n",
       "\t<li>'corrResp'</li>\n",
       "\t<li>'key_responseTarget.corr_raw'</li>\n",
       "\t<li>'key_responseTarget.rt_raw'</li>\n",
       "\t<li>'sex'</li>\n",
       "\t<li>'hand'</li>\n",
       "\t<li>'key_responseTarget.keys_raw'</li>\n",
       "\t<li>'sbj'</li>\n",
       "\t<li>'order'</li>\n",
       "\t<li>'age'</li>\n",
       "\t<li>'instruction'</li>\n",
       "</ol>\n"
      ],
      "text/latex": [
       "\\begin{enumerate*}\n",
       "\\item 'cueType'\n",
       "\\item 'targetValidity'\n",
       "\\item 'CueDistractorPosition1'\n",
       "\\item 'cueDistractor2\\_Position'\n",
       "\\item 'cueDistractor3\\_Position'\n",
       "\\item 'InhibitionDistractor'\n",
       "\\item 'Target'\n",
       "\\item 'TargetColor'\n",
       "\\item 'gap\\_topleft'\n",
       "\\item 'gap\\_topright'\n",
       "\\item 'gap\\_bottomright'\n",
       "\\item 'gap\\_bottomleft'\n",
       "\\item 'corrResp'\n",
       "\\item 'key\\_responseTarget.corr\\_raw'\n",
       "\\item 'key\\_responseTarget.rt\\_raw'\n",
       "\\item 'sex'\n",
       "\\item 'hand'\n",
       "\\item 'key\\_responseTarget.keys\\_raw'\n",
       "\\item 'sbj'\n",
       "\\item 'order'\n",
       "\\item 'age'\n",
       "\\item 'instruction'\n",
       "\\end{enumerate*}\n"
      ],
      "text/markdown": [
       "1. 'cueType'\n",
       "2. 'targetValidity'\n",
       "3. 'CueDistractorPosition1'\n",
       "4. 'cueDistractor2_Position'\n",
       "5. 'cueDistractor3_Position'\n",
       "6. 'InhibitionDistractor'\n",
       "7. 'Target'\n",
       "8. 'TargetColor'\n",
       "9. 'gap_topleft'\n",
       "10. 'gap_topright'\n",
       "11. 'gap_bottomright'\n",
       "12. 'gap_bottomleft'\n",
       "13. 'corrResp'\n",
       "14. 'key_responseTarget.corr_raw'\n",
       "15. 'key_responseTarget.rt_raw'\n",
       "16. 'sex'\n",
       "17. 'hand'\n",
       "18. 'key_responseTarget.keys_raw'\n",
       "19. 'sbj'\n",
       "20. 'order'\n",
       "21. 'age'\n",
       "22. 'instruction'\n",
       "\n",
       "\n"
      ],
      "text/plain": [
       " [1] \"cueType\"                     \"targetValidity\"             \n",
       " [3] \"CueDistractorPosition1\"      \"cueDistractor2_Position\"    \n",
       " [5] \"cueDistractor3_Position\"     \"InhibitionDistractor\"       \n",
       " [7] \"Target\"                      \"TargetColor\"                \n",
       " [9] \"gap_topleft\"                 \"gap_topright\"               \n",
       "[11] \"gap_bottomright\"             \"gap_bottomleft\"             \n",
       "[13] \"corrResp\"                    \"key_responseTarget.corr_raw\"\n",
       "[15] \"key_responseTarget.rt_raw\"   \"sex\"                        \n",
       "[17] \"hand\"                        \"key_responseTarget.keys_raw\"\n",
       "[19] \"sbj\"                         \"order\"                      \n",
       "[21] \"age\"                         \"instruction\"                "
      ]
     },
     "metadata": {},
     "output_type": "display_data"
    }
   ],
   "source": [
    "names(df)"
   ]
  },
  {
   "cell_type": "markdown",
   "id": "fe5e427d-fbdb-423c-9379-fe242f8aefe2",
   "metadata": {},
   "source": [
    "Limit to correct responses only (are stored in variable `key_responseTarget.corr_raw`)"
   ]
  },
  {
   "cell_type": "code",
   "execution_count": 178,
   "id": "f50031df-9b8d-4a69-8a16-fde36ba668b4",
   "metadata": {},
   "outputs": [
    {
     "name": "stdout",
     "output_type": "stream",
     "text": [
      "26890 rows"
     ]
    }
   ],
   "source": [
    "df <- df[df$key_responseTarget.corr_raw == 1, ] # filter\n",
    "df <- subset(df, select = -c(key_responseTarget.corr_raw)) # remove col\n",
    "cat(nrow(df), \"rows\")"
   ]
  },
  {
   "cell_type": "markdown",
   "id": "f835e575-7bf2-4edb-85e2-da6455f1863e",
   "metadata": {},
   "source": [
    "Limit to positive instructions only (`instruction`)"
   ]
  },
  {
   "cell_type": "code",
   "execution_count": 179,
   "id": "b99e2268-7b00-4517-8ad8-e37934a1795c",
   "metadata": {},
   "outputs": [
    {
     "name": "stdout",
     "output_type": "stream",
     "text": [
      "7671 rows"
     ]
    }
   ],
   "source": [
    "df <- df[df$instruction==\"positive\", ] # filter\n",
    "df <- subset(df, select = -c(instruction)) # remove col\n",
    "cat(nrow(df), \"rows\")"
   ]
  },
  {
   "cell_type": "markdown",
   "id": "71178783-28cb-4394-ae0f-2e8d0f2f065d",
   "metadata": {},
   "source": [
    "Remove variable `TargetColor` (is always blue)"
   ]
  },
  {
   "cell_type": "code",
   "execution_count": 180,
   "id": "24b95dcf-add4-4c5c-9e34-8506202d8f3b",
   "metadata": {},
   "outputs": [],
   "source": [
    "df <- subset(df, select = -c(TargetColor)) # remove col"
   ]
  },
  {
   "cell_type": "markdown",
   "id": "5bad4125-de9e-4f3e-97db-1b11394a355d",
   "metadata": {},
   "source": [
    "Remove redundant variable `key_responseTarget.keys_raw` (same info already in `corrResp`)"
   ]
  },
  {
   "cell_type": "code",
   "execution_count": 181,
   "id": "9ee76174-d688-4a8c-b3fc-06733570d634",
   "metadata": {},
   "outputs": [],
   "source": [
    "df <- subset(df, select = -c(key_responseTarget.keys_raw)) # remove col"
   ]
  },
  {
   "cell_type": "markdown",
   "id": "a26b2040-4088-4094-8556-87e5bc9c8dce",
   "metadata": {},
   "source": [
    "Remove variables `age`, `sex` and `hand`"
   ]
  },
  {
   "cell_type": "code",
   "execution_count": 182,
   "id": "9b619446-73a0-485b-8752-d2443fa14c84",
   "metadata": {},
   "outputs": [],
   "source": [
    "df <- subset(df, select = -c(age, sex, hand)) # remove col"
   ]
  },
  {
   "cell_type": "markdown",
   "id": "ea93797b-4fc0-46a3-8153-7938ede23a1d",
   "metadata": {},
   "source": [
    "Rename reaction time column to `reactionTime`, convert from factor to numeric and to milliseconds"
   ]
  },
  {
   "cell_type": "code",
   "execution_count": 183,
   "id": "93dfca6e-b48a-42e5-801b-314f4d32a770",
   "metadata": {},
   "outputs": [],
   "source": [
    "df <- rename(df, reactionTime = key_responseTarget.rt_raw)\n",
    "df$reactionTime <- parse_number(as.character(df$reactionTime), locale=locale(decimal_mark = \",\")) * 1000 # 1000 -> seconds to milliseconds"
   ]
  },
  {
   "cell_type": "markdown",
   "id": "f254f7cc-d18d-48d6-bcf4-2d88675ef324",
   "metadata": {},
   "source": [
    "### check variables"
   ]
  },
  {
   "cell_type": "code",
   "execution_count": 184,
   "id": "ce3a8122-cfe8-4af0-a634-411780ada684",
   "metadata": {},
   "outputs": [
    {
     "data": {
      "text/plain": [
       "       cueType     targetValidity CueDistractorPosition1\n",
       " inhibition:2575   invalid:5751   topleft :5768         \n",
       " match     :2532   valid  :1920   topright:1903         \n",
       " non-match :2564                                        \n",
       "                                                        \n",
       "                                                        \n",
       "                                                        \n",
       " cueDistractor2_Position cueDistractor3_Position  InhibitionDistractor\n",
       " bottomleft :1917        bottomleft:5749         bottomleft :1910     \n",
       " bottomright:5754        topright  :1922         bottomright:1921     \n",
       "                                                 topleft    :1929     \n",
       "                                                 topright   :1911     \n",
       "                                                                      \n",
       "                                                                      \n",
       "         Target     gap_topleft  gap_topright gap_bottomright gap_bottomleft\n",
       " bottomleft :1920   down :2093   down :1877   down :2262      down :1863    \n",
       " bottomright:1901   left :1878   left :1833   left :1862      left :2098    \n",
       " topleft    :1908   right:1733   right:2363   right:1295      right:2280    \n",
       " topright   :1942   up   :1967   up   :1598   up   :2252      up   :1430    \n",
       "                                                                            \n",
       "                                                                            \n",
       "  corrResp     reactionTime        sbj            order       \n",
       " down :1851   Min.   :293.7   Min.   : 1.00   Min.   :   1.0  \n",
       " left :1987   1st Qu.:480.5   1st Qu.: 6.00   1st Qu.: 449.0  \n",
       " right:2012   Median :537.2   Median :10.00   Median : 882.0  \n",
       " up   :1821   Mean   :555.3   Mean   :10.44   Mean   : 872.6  \n",
       "              3rd Qu.:608.7   3rd Qu.:15.00   3rd Qu.:1296.0  \n",
       "              Max.   :983.3   Max.   :20.00   Max.   :1727.0  "
      ]
     },
     "metadata": {},
     "output_type": "display_data"
    }
   ],
   "source": [
    "summary(df)"
   ]
  },
  {
   "cell_type": "markdown",
   "id": "95da946b-b667-4a3e-9773-5ede09003205",
   "metadata": {},
   "source": [
    "### data cleaning\n",
    "\n",
    "* eliminate person with the least correct responses?\n",
    "* eliminate rows with reaction time greater 1 second or smaller than 0.15 seconds."
   ]
  },
  {
   "cell_type": "code",
   "execution_count": 185,
   "id": "c680a044-7a94-48d8-9b7e-4fceed2a1a50",
   "metadata": {},
   "outputs": [
    {
     "data": {
      "text/html": [
       "<table>\n",
       "<thead><tr><th scope=col>Group.1</th><th scope=col>x</th></tr></thead>\n",
       "<tbody>\n",
       "\t<tr><td> 1 </td><td>388</td></tr>\n",
       "\t<tr><td> 2 </td><td>370</td></tr>\n",
       "\t<tr><td> 3 </td><td>341</td></tr>\n",
       "\t<tr><td> 4 </td><td>394</td></tr>\n",
       "\t<tr><td> 5 </td><td>409</td></tr>\n",
       "\t<tr><td> 6 </td><td>406</td></tr>\n",
       "\t<tr><td> 7 </td><td>398</td></tr>\n",
       "\t<tr><td> 8 </td><td>392</td></tr>\n",
       "\t<tr><td> 9 </td><td>408</td></tr>\n",
       "\t<tr><td>10 </td><td>405</td></tr>\n",
       "\t<tr><td>11 </td><td>388</td></tr>\n",
       "\t<tr><td>12 </td><td>376</td></tr>\n",
       "\t<tr><td>13 </td><td>342</td></tr>\n",
       "\t<tr><td>14 </td><td>385</td></tr>\n",
       "\t<tr><td>15 </td><td>418</td></tr>\n",
       "\t<tr><td>16 </td><td>352</td></tr>\n",
       "\t<tr><td>17 </td><td>393</td></tr>\n",
       "\t<tr><td>18 </td><td>358</td></tr>\n",
       "\t<tr><td>19 </td><td>402</td></tr>\n",
       "\t<tr><td>20 </td><td>346</td></tr>\n",
       "</tbody>\n",
       "</table>\n"
      ],
      "text/latex": [
       "\\begin{tabular}{r|ll}\n",
       " Group.1 & x\\\\\n",
       "\\hline\n",
       "\t  1  & 388\\\\\n",
       "\t  2  & 370\\\\\n",
       "\t  3  & 341\\\\\n",
       "\t  4  & 394\\\\\n",
       "\t  5  & 409\\\\\n",
       "\t  6  & 406\\\\\n",
       "\t  7  & 398\\\\\n",
       "\t  8  & 392\\\\\n",
       "\t  9  & 408\\\\\n",
       "\t 10  & 405\\\\\n",
       "\t 11  & 388\\\\\n",
       "\t 12  & 376\\\\\n",
       "\t 13  & 342\\\\\n",
       "\t 14  & 385\\\\\n",
       "\t 15  & 418\\\\\n",
       "\t 16  & 352\\\\\n",
       "\t 17  & 393\\\\\n",
       "\t 18  & 358\\\\\n",
       "\t 19  & 402\\\\\n",
       "\t 20  & 346\\\\\n",
       "\\end{tabular}\n"
      ],
      "text/markdown": [
       "\n",
       "| Group.1 | x |\n",
       "|---|---|\n",
       "|  1  | 388 |\n",
       "|  2  | 370 |\n",
       "|  3  | 341 |\n",
       "|  4  | 394 |\n",
       "|  5  | 409 |\n",
       "|  6  | 406 |\n",
       "|  7  | 398 |\n",
       "|  8  | 392 |\n",
       "|  9  | 408 |\n",
       "| 10  | 405 |\n",
       "| 11  | 388 |\n",
       "| 12  | 376 |\n",
       "| 13  | 342 |\n",
       "| 14  | 385 |\n",
       "| 15  | 418 |\n",
       "| 16  | 352 |\n",
       "| 17  | 393 |\n",
       "| 18  | 358 |\n",
       "| 19  | 402 |\n",
       "| 20  | 346 |\n",
       "\n"
      ],
      "text/plain": [
       "   Group.1 x  \n",
       "1   1      388\n",
       "2   2      370\n",
       "3   3      341\n",
       "4   4      394\n",
       "5   5      409\n",
       "6   6      406\n",
       "7   7      398\n",
       "8   8      392\n",
       "9   9      408\n",
       "10 10      405\n",
       "11 11      388\n",
       "12 12      376\n",
       "13 13      342\n",
       "14 14      385\n",
       "15 15      418\n",
       "16 16      352\n",
       "17 17      393\n",
       "18 18      358\n",
       "19 19      402\n",
       "20 20      346"
      ]
     },
     "metadata": {},
     "output_type": "display_data"
    }
   ],
   "source": [
    "aggregate(df$sbj, list(df$sbj), FUN=length)"
   ]
  },
  {
   "cell_type": "markdown",
   "id": "b3fbd454-af76-48c9-9a9f-628169f87b4a",
   "metadata": {},
   "source": [
    "Sbj 3 has the least corr responses (341), but is not really an outlier, I would therefor keep the subject."
   ]
  },
  {
   "cell_type": "markdown",
   "id": "a986d532-6948-4ef1-a48a-425270893ee5",
   "metadata": {},
   "source": [
    "Limit to response times"
   ]
  },
  {
   "cell_type": "code",
   "execution_count": 186,
   "id": "33c95300-09e2-4773-8363-790b7fc4f503",
   "metadata": {},
   "outputs": [
    {
     "name": "stdout",
     "output_type": "stream",
     "text": [
      "7671 rows"
     ]
    }
   ],
   "source": [
    "df <- df[df$reactionTime<=1000 & df$reactionTime >= 150,]\n",
    "cat(nrow(df), \"rows\")"
   ]
  },
  {
   "cell_type": "markdown",
   "id": "64c341f1-cfc7-4173-a0f8-c139be918318",
   "metadata": {},
   "source": [
    "## Validity effects"
   ]
  },
  {
   "cell_type": "code",
   "execution_count": 187,
   "id": "03e493e5-69ea-430b-b3e9-0f2daeb74b4a",
   "metadata": {},
   "outputs": [],
   "source": [
    "df_valid <- df[df$targetValidity==\"valid\", ]\n",
    "df_valid <- subset(df_valid, select = -c(targetValidity)) # remove col\n",
    "\n",
    "df_invalid <- df[df$targetValidity==\"invalid\", ]\n",
    "df_invalid <- subset(df_invalid, select = -c(targetValidity)) # remove col"
   ]
  },
  {
   "cell_type": "code",
   "execution_count": 188,
   "id": "8842a08a-fd31-4a84-a3aa-37931102acba",
   "metadata": {},
   "outputs": [
    {
     "data": {
      "text/html": [
       "1920"
      ],
      "text/latex": [
       "1920"
      ],
      "text/markdown": [
       "1920"
      ],
      "text/plain": [
       "[1] 1920"
      ]
     },
     "metadata": {},
     "output_type": "display_data"
    }
   ],
   "source": [
    "nrow(df_valid)"
   ]
  },
  {
   "cell_type": "code",
   "execution_count": 189,
   "id": "fe2c4a88-d7aa-4dbf-b7b0-7d9b26baa24d",
   "metadata": {},
   "outputs": [
    {
     "data": {
      "text/html": [
       "543.575761691667"
      ],
      "text/latex": [
       "543.575761691667"
      ],
      "text/markdown": [
       "543.575761691667"
      ],
      "text/plain": [
       "[1] 543.5758"
      ]
     },
     "metadata": {},
     "output_type": "display_data"
    }
   ],
   "source": [
    "mean(df_valid$reactionTime)"
   ]
  },
  {
   "cell_type": "code",
   "execution_count": 190,
   "id": "f0f181c9-3597-4074-b552-1955e2796458",
   "metadata": {},
   "outputs": [
    {
     "data": {
      "text/html": [
       "113.267426566131"
      ],
      "text/latex": [
       "113.267426566131"
      ],
      "text/markdown": [
       "113.267426566131"
      ],
      "text/plain": [
       "[1] 113.2674"
      ]
     },
     "metadata": {},
     "output_type": "display_data"
    }
   ],
   "source": [
    "sd(df_valid$reactionTime)"
   ]
  },
  {
   "cell_type": "code",
   "execution_count": 191,
   "id": "fe0d4070-8fdb-46fb-b0bf-adbc56e83516",
   "metadata": {},
   "outputs": [
    {
     "data": {
      "text/html": [
       "5751"
      ],
      "text/latex": [
       "5751"
      ],
      "text/markdown": [
       "5751"
      ],
      "text/plain": [
       "[1] 5751"
      ]
     },
     "metadata": {},
     "output_type": "display_data"
    }
   ],
   "source": [
    "nrow(df_invalid)"
   ]
  },
  {
   "cell_type": "code",
   "execution_count": 192,
   "id": "9bf76c63-f6ec-415f-8a1f-d733916f9d21",
   "metadata": {},
   "outputs": [
    {
     "data": {
      "text/html": [
       "559.159064281864"
      ],
      "text/latex": [
       "559.159064281864"
      ],
      "text/markdown": [
       "559.159064281864"
      ],
      "text/plain": [
       "[1] 559.1591"
      ]
     },
     "metadata": {},
     "output_type": "display_data"
    }
   ],
   "source": [
    "mean(df_invalid$reactionTime)"
   ]
  },
  {
   "cell_type": "code",
   "execution_count": 193,
   "id": "f5581e6b-5cef-4943-be62-c574264bff76",
   "metadata": {},
   "outputs": [
    {
     "data": {
      "text/html": [
       "104.009845935634"
      ],
      "text/latex": [
       "104.009845935634"
      ],
      "text/markdown": [
       "104.009845935634"
      ],
      "text/plain": [
       "[1] 104.0098"
      ]
     },
     "metadata": {},
     "output_type": "display_data"
    }
   ],
   "source": [
    "sd(df_invalid$reactionTime)"
   ]
  },
  {
   "cell_type": "code",
   "execution_count": 194,
   "id": "93a9560c-dd30-4e1f-8320-a8c0a99b40dc",
   "metadata": {},
   "outputs": [
    {
     "data": {
      "image/png": "[encoded data removed]",
      "text/plain": [
       "plot without title"
      ]
     },
     "metadata": {},
     "output_type": "display_data"
    }
   ],
   "source": [
    "ggplot(df, aes(x=targetValidity, y=reactionTime)) + \n",
    "geom_violin(aes(fill=targetValidity), alpha=0.7) +\n",
    "scale_fill_viridis(discrete=TRUE) +\n",
    "xlab(\"Target validity\") +\n",
    "ylab(\"Reaction time (ms)\") + \n",
    "labs(title=\"Distribution of reaction times depending on experimental condition\") +\n",
    "guides(fill = \"none\")"
   ]
  }
 ],
 "metadata": {
  "kernelspec": {
   "display_name": "R",
   "language": "R",
   "name": "ir"
  },
  "language_info": {
   "codemirror_mode": "r",
   "file_extension": ".r",
   "mimetype": "text/x-r-source",
   "name": "R",
   "pygments_lexer": "r",
   "version": "3.6.1"
  }
 },
 "nbformat": 4,
 "nbformat_minor": 5
}
