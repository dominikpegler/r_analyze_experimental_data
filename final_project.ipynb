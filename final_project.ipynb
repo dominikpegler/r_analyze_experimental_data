{
 "cells": [
  {
   "cell_type": "markdown",
   "id": "efba5772-1055-4c08-977d-a1e6c7506e89",
   "metadata": {},
   "source": [
    "Final project\n",
    "===\n",
    "Anwendungsseminar: Experimentalpsychologische Daten analysieren mit R"
   ]
  },
  {
   "cell_type": "code",
   "execution_count": null,
   "id": "e6fe4d1d-3d7a-42e2-94e0-446f16a33996",
   "metadata": {},
   "outputs": [],
   "source": [
    "library(data.table)\n",
    "library(ggplot2)\n",
    "\n",
    "filelist <- list.files(path = \"final_data\", pattern = \"*.txt\", full.names = TRUE)\n",
    "datalist <- lapply(filelist, function(x)read.table(x, header=T)) \n",
    "df <- do.call(\"rbind\", datalist)\n",
    "setDT(df) # Convert data.frame to data.table"
   ]
  },
  {
   "cell_type": "code",
   "execution_count": 34,
   "id": "a11d3b2f-4162-409f-86c6-85a07964d1e5",
   "metadata": {},
   "outputs": [
    {
     "data": {
      "text/html": [
       "34560"
      ],
      "text/latex": [
       "34560"
      ],
      "text/markdown": [
       "34560"
      ],
      "text/plain": [
       "[1] 34560"
      ]
     },
     "metadata": {},
     "output_type": "display_data"
    }
   ],
   "source": [
    "nrow(df)"
   ]
  },
  {
   "cell_type": "code",
   "execution_count": 33,
   "id": "497f5377-503a-45b7-b43e-0c6c9c373e9a",
   "metadata": {},
   "outputs": [
    {
     "data": {
      "text/html": [
       "<ol class=list-inline>\n",
       "\t<li>'cueType'</li>\n",
       "\t<li>'targetValidity'</li>\n",
       "\t<li>'CueDistractorPosition1'</li>\n",
       "\t<li>'cueDistractor2_Position'</li>\n",
       "\t<li>'cueDistractor3_Position'</li>\n",
       "\t<li>'InhibitionDistractor'</li>\n",
       "\t<li>'Target'</li>\n",
       "\t<li>'TargetColor'</li>\n",
       "\t<li>'gap_topleft'</li>\n",
       "\t<li>'gap_topright'</li>\n",
       "\t<li>'gap_bottomright'</li>\n",
       "\t<li>'gap_bottomleft'</li>\n",
       "\t<li>'corrResp'</li>\n",
       "\t<li>'key_responseTarget.corr_raw'</li>\n",
       "\t<li>'key_responseTarget.rt_raw'</li>\n",
       "\t<li>'sex'</li>\n",
       "\t<li>'hand'</li>\n",
       "\t<li>'key_responseTarget.keys_raw'</li>\n",
       "\t<li>'sbj'</li>\n",
       "\t<li>'order'</li>\n",
       "\t<li>'age'</li>\n",
       "\t<li>'instruction'</li>\n",
       "</ol>\n"
      ],
      "text/latex": [
       "\\begin{enumerate*}\n",
       "\\item 'cueType'\n",
       "\\item 'targetValidity'\n",
       "\\item 'CueDistractorPosition1'\n",
       "\\item 'cueDistractor2\\_Position'\n",
       "\\item 'cueDistractor3\\_Position'\n",
       "\\item 'InhibitionDistractor'\n",
       "\\item 'Target'\n",
       "\\item 'TargetColor'\n",
       "\\item 'gap\\_topleft'\n",
       "\\item 'gap\\_topright'\n",
       "\\item 'gap\\_bottomright'\n",
       "\\item 'gap\\_bottomleft'\n",
       "\\item 'corrResp'\n",
       "\\item 'key\\_responseTarget.corr\\_raw'\n",
       "\\item 'key\\_responseTarget.rt\\_raw'\n",
       "\\item 'sex'\n",
       "\\item 'hand'\n",
       "\\item 'key\\_responseTarget.keys\\_raw'\n",
       "\\item 'sbj'\n",
       "\\item 'order'\n",
       "\\item 'age'\n",
       "\\item 'instruction'\n",
       "\\end{enumerate*}\n"
      ],
      "text/markdown": [
       "1. 'cueType'\n",
       "2. 'targetValidity'\n",
       "3. 'CueDistractorPosition1'\n",
       "4. 'cueDistractor2_Position'\n",
       "5. 'cueDistractor3_Position'\n",
       "6. 'InhibitionDistractor'\n",
       "7. 'Target'\n",
       "8. 'TargetColor'\n",
       "9. 'gap_topleft'\n",
       "10. 'gap_topright'\n",
       "11. 'gap_bottomright'\n",
       "12. 'gap_bottomleft'\n",
       "13. 'corrResp'\n",
       "14. 'key_responseTarget.corr_raw'\n",
       "15. 'key_responseTarget.rt_raw'\n",
       "16. 'sex'\n",
       "17. 'hand'\n",
       "18. 'key_responseTarget.keys_raw'\n",
       "19. 'sbj'\n",
       "20. 'order'\n",
       "21. 'age'\n",
       "22. 'instruction'\n",
       "\n",
       "\n"
      ],
      "text/plain": [
       " [1] \"cueType\"                     \"targetValidity\"             \n",
       " [3] \"CueDistractorPosition1\"      \"cueDistractor2_Position\"    \n",
       " [5] \"cueDistractor3_Position\"     \"InhibitionDistractor\"       \n",
       " [7] \"Target\"                      \"TargetColor\"                \n",
       " [9] \"gap_topleft\"                 \"gap_topright\"               \n",
       "[11] \"gap_bottomright\"             \"gap_bottomleft\"             \n",
       "[13] \"corrResp\"                    \"key_responseTarget.corr_raw\"\n",
       "[15] \"key_responseTarget.rt_raw\"   \"sex\"                        \n",
       "[17] \"hand\"                        \"key_responseTarget.keys_raw\"\n",
       "[19] \"sbj\"                         \"order\"                      \n",
       "[21] \"age\"                         \"instruction\"                "
      ]
     },
     "metadata": {},
     "output_type": "display_data"
    }
   ],
   "source": [
    "names(df)"
   ]
  },
  {
   "cell_type": "markdown",
   "id": "fe5e427d-fbdb-423c-9379-fe242f8aefe2",
   "metadata": {},
   "source": [
    "Correct responses are stored in variable `key_responseTarget.corr_raw`"
   ]
  },
  {
   "cell_type": "code",
   "execution_count": 52,
   "id": "f50031df-9b8d-4a69-8a16-fde36ba668b4",
   "metadata": {},
   "outputs": [],
   "source": [
    "df_corr <- df[df$key_responseTarget.corr_raw == 1, ]"
   ]
  },
  {
   "cell_type": "code",
   "execution_count": 53,
   "id": "96be6d1b-a6b1-4e02-ae89-37fa268fd905",
   "metadata": {},
   "outputs": [
    {
     "data": {
      "text/html": [
       "26890"
      ],
      "text/latex": [
       "26890"
      ],
      "text/markdown": [
       "26890"
      ],
      "text/plain": [
       "[1] 26890"
      ]
     },
     "metadata": {},
     "output_type": "display_data"
    }
   ],
   "source": [
    "nrow(df_corr)"
   ]
  }
 ],
 "metadata": {
  "kernelspec": {
   "display_name": "R",
   "language": "R",
   "name": "ir"
  },
  "language_info": {
   "codemirror_mode": "r",
   "file_extension": ".r",
   "mimetype": "text/x-r-source",
   "name": "R",
   "pygments_lexer": "r",
   "version": "3.6.1"
  }
 },
 "nbformat": 4,
 "nbformat_minor": 5
}
