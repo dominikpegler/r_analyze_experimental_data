{
 "cells": [
  {
   "cell_type": "markdown",
   "id": "efba5772-1055-4c08-977d-a1e6c7506e89",
   "metadata": {},
   "source": [
    "Final assignment\n",
    "===\n",
    "* Group 3: Dominik Pegler • Elisa Grünauer • Lars Keuter\n",
    "* Experiment 2: Positive instruction\n",
    "* Course: Analyzing experimental-psychological data with R (Grüner & Forstinger)\n",
    "---\n",
    "**Content**\n",
    "\n",
    "**1. Research question  \n",
    "2. Import libraries  \n",
    "3. Import data  \n",
    "4. Data transformation and cleaning  \n",
    "5. Power analysis  \n",
    "6. Validity effects  \n",
    "7. Visualization**\n",
    "---\n",
    "## 1. Research question\n",
    "\n",
    "What validity effects can be found for the condition \"Positive instruction\"?**\n",
    "\n",
    "* `key_responseTarget.corr_raw` = `answerCorrect`\n",
    "* `key_responseTarget.rt_raw` = `reactionTime`\n",
    "* `key_responseTarget.keys_raw` = which key was pressed by the participant"
   ]
  },
  {
   "cell_type": "markdown",
   "id": "5fff5e1b-6cc5-4b50-bba1-69e35d7e3ae8",
   "metadata": {},
   "source": [
    "## 2. Import libraries"
   ]
  },
  {
   "cell_type": "code",
   "execution_count": null,
   "id": "e553f3d4-69ef-43be-9680-c51594378f7c",
   "metadata": {},
   "outputs": [],
   "source": [
    "# import libraries\n",
    "library(data.table)\n",
    "library(tidyverse)\n",
    "library(viridis)\n",
    "\n",
    "# default settings ggplot\n",
    "theme_set(theme_minimal())\n",
    "update_geom_defaults(\"bar\", list(fill = \"steelblue\", alpha = 0.8))\n",
    "update_geom_defaults(\"point\", list(color = \"steelblue\", alpha = 0.8, size = 2.6))\n",
    "update_geom_defaults(\"boxplot\", list(fill = \"steelblue\", alpha = 0.8))"
   ]
  },
  {
   "cell_type": "markdown",
   "id": "b9f83c60-66d6-4a8c-93b8-e14ee5bc85f6",
   "metadata": {},
   "source": [
    "## 3. Import data"
   ]
  },
  {
   "cell_type": "code",
   "execution_count": 2,
   "id": "3070d4b0-a08b-4515-b73e-41abdd9b5d05",
   "metadata": {},
   "outputs": [
    {
     "name": "stdout",
     "output_type": "stream",
     "text": [
      "34560 rows"
     ]
    }
   ],
   "source": [
    "# import data\n",
    "filelist <- list.files(path = \"final_data\", pattern = \"*.txt\", full.names = TRUE)\n",
    "datalist <- lapply(filelist, function(x)read.table(x, header=T)) \n",
    "df <- do.call(\"rbind\", datalist)\n",
    "setDT(df) # Convert data.frame to data.table\n",
    "cat(nrow(df), \"rows\")"
   ]
  },
  {
   "cell_type": "markdown",
   "id": "b6fc818d-7e67-45ca-af49-18e30523fe4f",
   "metadata": {},
   "source": [
    "## 4. Data transformation and cleaning"
   ]
  },
  {
   "cell_type": "code",
   "execution_count": 3,
   "id": "497f5377-503a-45b7-b43e-0c6c9c373e9a",
   "metadata": {},
   "outputs": [
    {
     "data": {
      "text/html": [
       "<ol class=list-inline>\n",
       "\t<li>'cueType'</li>\n",
       "\t<li>'targetValidity'</li>\n",
       "\t<li>'CueDistractorPosition1'</li>\n",
       "\t<li>'cueDistractor2_Position'</li>\n",
       "\t<li>'cueDistractor3_Position'</li>\n",
       "\t<li>'InhibitionDistractor'</li>\n",
       "\t<li>'Target'</li>\n",
       "\t<li>'TargetColor'</li>\n",
       "\t<li>'gap_topleft'</li>\n",
       "\t<li>'gap_topright'</li>\n",
       "\t<li>'gap_bottomright'</li>\n",
       "\t<li>'gap_bottomleft'</li>\n",
       "\t<li>'corrResp'</li>\n",
       "\t<li>'key_responseTarget.corr_raw'</li>\n",
       "\t<li>'key_responseTarget.rt_raw'</li>\n",
       "\t<li>'sex'</li>\n",
       "\t<li>'hand'</li>\n",
       "\t<li>'key_responseTarget.keys_raw'</li>\n",
       "\t<li>'sbj'</li>\n",
       "\t<li>'order'</li>\n",
       "\t<li>'age'</li>\n",
       "\t<li>'instruction'</li>\n",
       "</ol>\n"
      ],
      "text/latex": [
       "\\begin{enumerate*}\n",
       "\\item 'cueType'\n",
       "\\item 'targetValidity'\n",
       "\\item 'CueDistractorPosition1'\n",
       "\\item 'cueDistractor2\\_Position'\n",
       "\\item 'cueDistractor3\\_Position'\n",
       "\\item 'InhibitionDistractor'\n",
       "\\item 'Target'\n",
       "\\item 'TargetColor'\n",
       "\\item 'gap\\_topleft'\n",
       "\\item 'gap\\_topright'\n",
       "\\item 'gap\\_bottomright'\n",
       "\\item 'gap\\_bottomleft'\n",
       "\\item 'corrResp'\n",
       "\\item 'key\\_responseTarget.corr\\_raw'\n",
       "\\item 'key\\_responseTarget.rt\\_raw'\n",
       "\\item 'sex'\n",
       "\\item 'hand'\n",
       "\\item 'key\\_responseTarget.keys\\_raw'\n",
       "\\item 'sbj'\n",
       "\\item 'order'\n",
       "\\item 'age'\n",
       "\\item 'instruction'\n",
       "\\end{enumerate*}\n"
      ],
      "text/markdown": [
       "1. 'cueType'\n",
       "2. 'targetValidity'\n",
       "3. 'CueDistractorPosition1'\n",
       "4. 'cueDistractor2_Position'\n",
       "5. 'cueDistractor3_Position'\n",
       "6. 'InhibitionDistractor'\n",
       "7. 'Target'\n",
       "8. 'TargetColor'\n",
       "9. 'gap_topleft'\n",
       "10. 'gap_topright'\n",
       "11. 'gap_bottomright'\n",
       "12. 'gap_bottomleft'\n",
       "13. 'corrResp'\n",
       "14. 'key_responseTarget.corr_raw'\n",
       "15. 'key_responseTarget.rt_raw'\n",
       "16. 'sex'\n",
       "17. 'hand'\n",
       "18. 'key_responseTarget.keys_raw'\n",
       "19. 'sbj'\n",
       "20. 'order'\n",
       "21. 'age'\n",
       "22. 'instruction'\n",
       "\n",
       "\n"
      ],
      "text/plain": [
       " [1] \"cueType\"                     \"targetValidity\"             \n",
       " [3] \"CueDistractorPosition1\"      \"cueDistractor2_Position\"    \n",
       " [5] \"cueDistractor3_Position\"     \"InhibitionDistractor\"       \n",
       " [7] \"Target\"                      \"TargetColor\"                \n",
       " [9] \"gap_topleft\"                 \"gap_topright\"               \n",
       "[11] \"gap_bottomright\"             \"gap_bottomleft\"             \n",
       "[13] \"corrResp\"                    \"key_responseTarget.corr_raw\"\n",
       "[15] \"key_responseTarget.rt_raw\"   \"sex\"                        \n",
       "[17] \"hand\"                        \"key_responseTarget.keys_raw\"\n",
       "[19] \"sbj\"                         \"order\"                      \n",
       "[21] \"age\"                         \"instruction\"                "
      ]
     },
     "metadata": {},
     "output_type": "display_data"
    }
   ],
   "source": [
    "names(df)"
   ]
  },
  {
   "cell_type": "markdown",
   "id": "f835e575-7bf2-4edb-85e2-da6455f1863e",
   "metadata": {},
   "source": [
    "### 4.1 Limit to positive instructions only (variable `instruction`)"
   ]
  },
  {
   "cell_type": "code",
   "execution_count": 4,
   "id": "b99e2268-7b00-4517-8ad8-e37934a1795c",
   "metadata": {},
   "outputs": [
    {
     "name": "stdout",
     "output_type": "stream",
     "text": [
      "8640 rows"
     ]
    }
   ],
   "source": [
    "df <- df[df$instruction==\"positive\", ] # filter\n",
    "df <- subset(df, select = -c(instruction)) # remove col\n",
    "nrow_positive <- nrow(df)\n",
    "cat(nrow_positive, \"rows\")"
   ]
  },
  {
   "cell_type": "markdown",
   "id": "a36c9d16-f579-46f1-bc54-e757d97787e3",
   "metadata": {},
   "source": [
    "### 4.2 Limit to correct responses only (`key_responseTarget.corr_raw`)"
   ]
  },
  {
   "cell_type": "code",
   "execution_count": 5,
   "id": "f50031df-9b8d-4a69-8a16-fde36ba668b4",
   "metadata": {},
   "outputs": [
    {
     "name": "stdout",
     "output_type": "stream",
     "text": [
      "7671 rows.\n",
      "\n",
      "11% of the trials were removed due to incorrect response."
     ]
    }
   ],
   "source": [
    "df <- df[df$key_responseTarget.corr_raw == 1, ] # filter\n",
    "df <- subset(df, select = -c(key_responseTarget.corr_raw)) # remove col\n",
    "nrow_correct <- nrow(df)\n",
    "cat(nrow_correct, \" rows.\\n\\n\", round(100*(1-nrow_correct/nrow_positive), 0), \"% of the trials were removed due to incorrect response.\", sep=\"\")"
   ]
  },
  {
   "cell_type": "markdown",
   "id": "71178783-28cb-4394-ae0f-2e8d0f2f065d",
   "metadata": {},
   "source": [
    "### 4.3 Remove variable `TargetColor` (is always blue)"
   ]
  },
  {
   "cell_type": "code",
   "execution_count": 6,
   "id": "24b95dcf-add4-4c5c-9e34-8506202d8f3b",
   "metadata": {},
   "outputs": [],
   "source": [
    "df <- subset(df, select = -c(TargetColor)) # remove col"
   ]
  },
  {
   "cell_type": "markdown",
   "id": "5bad4125-de9e-4f3e-97db-1b11394a355d",
   "metadata": {},
   "source": [
    "### 4.4 Remove redundant variable `key_responseTarget.keys_raw` (same info already in `corrResp`)"
   ]
  },
  {
   "cell_type": "code",
   "execution_count": 7,
   "id": "9ee76174-d688-4a8c-b3fc-06733570d634",
   "metadata": {},
   "outputs": [],
   "source": [
    "df <- subset(df, select = -c(key_responseTarget.keys_raw)) # remove col"
   ]
  },
  {
   "cell_type": "markdown",
   "id": "a26b2040-4088-4094-8556-87e5bc9c8dce",
   "metadata": {},
   "source": [
    "### 4.5 Remove variables `age`, `sex` and `hand`"
   ]
  },
  {
   "cell_type": "code",
   "execution_count": 8,
   "id": "9b619446-73a0-485b-8752-d2443fa14c84",
   "metadata": {},
   "outputs": [],
   "source": [
    "df <- subset(df, select = -c(age, sex, hand)) # remove col"
   ]
  },
  {
   "cell_type": "markdown",
   "id": "ea93797b-4fc0-46a3-8153-7938ede23a1d",
   "metadata": {},
   "source": [
    "### 4.6 Rename reaction time column to `reactionTime`, convert from factor to numeric and to milliseconds"
   ]
  },
  {
   "cell_type": "code",
   "execution_count": 9,
   "id": "93dfca6e-b48a-42e5-801b-314f4d32a770",
   "metadata": {},
   "outputs": [],
   "source": [
    "df <- rename(df, reactionTime = key_responseTarget.rt_raw)\n",
    "df$reactionTime <- parse_number(as.character(df$reactionTime), locale=locale(decimal_mark = \",\")) * 1000 # 1000 -> seconds to milliseconds"
   ]
  },
  {
   "cell_type": "markdown",
   "id": "f254f7cc-d18d-48d6-bcf4-2d88675ef324",
   "metadata": {},
   "source": [
    "### 4.7 Check variables"
   ]
  },
  {
   "cell_type": "code",
   "execution_count": 10,
   "id": "ce3a8122-cfe8-4af0-a634-411780ada684",
   "metadata": {},
   "outputs": [
    {
     "data": {
      "text/plain": [
       "       cueType     targetValidity CueDistractorPosition1\n",
       " inhibition:2575   invalid:5751   topleft :5768         \n",
       " match     :2532   valid  :1920   topright:1903         \n",
       " non-match :2564                                        \n",
       "                                                        \n",
       "                                                        \n",
       "                                                        \n",
       " cueDistractor2_Position cueDistractor3_Position  InhibitionDistractor\n",
       " bottomleft :1917        bottomleft:5749         bottomleft :1910     \n",
       " bottomright:5754        topright  :1922         bottomright:1921     \n",
       "                                                 topleft    :1929     \n",
       "                                                 topright   :1911     \n",
       "                                                                      \n",
       "                                                                      \n",
       "         Target     gap_topleft  gap_topright gap_bottomright gap_bottomleft\n",
       " bottomleft :1920   down :2093   down :1877   down :2262      down :1863    \n",
       " bottomright:1901   left :1878   left :1833   left :1862      left :2098    \n",
       " topleft    :1908   right:1733   right:2363   right:1295      right:2280    \n",
       " topright   :1942   up   :1967   up   :1598   up   :2252      up   :1430    \n",
       "                                                                            \n",
       "                                                                            \n",
       "  corrResp     reactionTime        sbj            order       \n",
       " down :1851   Min.   :293.7   Min.   : 1.00   Min.   :   1.0  \n",
       " left :1987   1st Qu.:480.5   1st Qu.: 6.00   1st Qu.: 449.0  \n",
       " right:2012   Median :537.2   Median :10.00   Median : 882.0  \n",
       " up   :1821   Mean   :555.3   Mean   :10.44   Mean   : 872.6  \n",
       "              3rd Qu.:608.7   3rd Qu.:15.00   3rd Qu.:1296.0  \n",
       "              Max.   :983.3   Max.   :20.00   Max.   :1727.0  "
      ]
     },
     "metadata": {},
     "output_type": "display_data"
    }
   ],
   "source": [
    "summary(df)"
   ]
  },
  {
   "cell_type": "markdown",
   "id": "941e7f1a-42a2-438c-9b5f-21622bdb1037",
   "metadata": {},
   "source": [
    "### 4.8 Removing outliers"
   ]
  },
  {
   "cell_type": "code",
   "execution_count": 11,
   "id": "c680a044-7a94-48d8-9b7e-4fceed2a1a50",
   "metadata": {},
   "outputs": [
    {
     "data": {
      "text/html": [
       "<table>\n",
       "<thead><tr><th scope=col>Group.1</th><th scope=col>x</th></tr></thead>\n",
       "<tbody>\n",
       "\t<tr><td> 1 </td><td>388</td></tr>\n",
       "\t<tr><td> 2 </td><td>370</td></tr>\n",
       "\t<tr><td> 3 </td><td>341</td></tr>\n",
       "\t<tr><td> 4 </td><td>394</td></tr>\n",
       "\t<tr><td> 5 </td><td>409</td></tr>\n",
       "\t<tr><td> 6 </td><td>406</td></tr>\n",
       "\t<tr><td> 7 </td><td>398</td></tr>\n",
       "\t<tr><td> 8 </td><td>392</td></tr>\n",
       "\t<tr><td> 9 </td><td>408</td></tr>\n",
       "\t<tr><td>10 </td><td>405</td></tr>\n",
       "\t<tr><td>11 </td><td>388</td></tr>\n",
       "\t<tr><td>12 </td><td>376</td></tr>\n",
       "\t<tr><td>13 </td><td>342</td></tr>\n",
       "\t<tr><td>14 </td><td>385</td></tr>\n",
       "\t<tr><td>15 </td><td>418</td></tr>\n",
       "\t<tr><td>16 </td><td>352</td></tr>\n",
       "\t<tr><td>17 </td><td>393</td></tr>\n",
       "\t<tr><td>18 </td><td>358</td></tr>\n",
       "\t<tr><td>19 </td><td>402</td></tr>\n",
       "\t<tr><td>20 </td><td>346</td></tr>\n",
       "</tbody>\n",
       "</table>\n"
      ],
      "text/latex": [
       "\\begin{tabular}{r|ll}\n",
       " Group.1 & x\\\\\n",
       "\\hline\n",
       "\t  1  & 388\\\\\n",
       "\t  2  & 370\\\\\n",
       "\t  3  & 341\\\\\n",
       "\t  4  & 394\\\\\n",
       "\t  5  & 409\\\\\n",
       "\t  6  & 406\\\\\n",
       "\t  7  & 398\\\\\n",
       "\t  8  & 392\\\\\n",
       "\t  9  & 408\\\\\n",
       "\t 10  & 405\\\\\n",
       "\t 11  & 388\\\\\n",
       "\t 12  & 376\\\\\n",
       "\t 13  & 342\\\\\n",
       "\t 14  & 385\\\\\n",
       "\t 15  & 418\\\\\n",
       "\t 16  & 352\\\\\n",
       "\t 17  & 393\\\\\n",
       "\t 18  & 358\\\\\n",
       "\t 19  & 402\\\\\n",
       "\t 20  & 346\\\\\n",
       "\\end{tabular}\n"
      ],
      "text/markdown": [
       "\n",
       "| Group.1 | x |\n",
       "|---|---|\n",
       "|  1  | 388 |\n",
       "|  2  | 370 |\n",
       "|  3  | 341 |\n",
       "|  4  | 394 |\n",
       "|  5  | 409 |\n",
       "|  6  | 406 |\n",
       "|  7  | 398 |\n",
       "|  8  | 392 |\n",
       "|  9  | 408 |\n",
       "| 10  | 405 |\n",
       "| 11  | 388 |\n",
       "| 12  | 376 |\n",
       "| 13  | 342 |\n",
       "| 14  | 385 |\n",
       "| 15  | 418 |\n",
       "| 16  | 352 |\n",
       "| 17  | 393 |\n",
       "| 18  | 358 |\n",
       "| 19  | 402 |\n",
       "| 20  | 346 |\n",
       "\n"
      ],
      "text/plain": [
       "   Group.1 x  \n",
       "1   1      388\n",
       "2   2      370\n",
       "3   3      341\n",
       "4   4      394\n",
       "5   5      409\n",
       "6   6      406\n",
       "7   7      398\n",
       "8   8      392\n",
       "9   9      408\n",
       "10 10      405\n",
       "11 11      388\n",
       "12 12      376\n",
       "13 13      342\n",
       "14 14      385\n",
       "15 15      418\n",
       "16 16      352\n",
       "17 17      393\n",
       "18 18      358\n",
       "19 19      402\n",
       "20 20      346"
      ]
     },
     "metadata": {},
     "output_type": "display_data"
    }
   ],
   "source": [
    "aggregate(df$sbj, list(df$sbj), FUN=length)"
   ]
  },
  {
   "cell_type": "markdown",
   "id": "b3fbd454-af76-48c9-9a9f-628169f87b4a",
   "metadata": {},
   "source": [
    "Sbj 3 has the least corr responses (341), but is not really an outlier, I would therefor keep these data. Other option to remove outliers would be by error rate with  a e.g. a (one-sided?) Grubbs test."
   ]
  },
  {
   "cell_type": "markdown",
   "id": "a986d532-6948-4ef1-a48a-425270893ee5",
   "metadata": {},
   "source": [
    "### 4.9 Removing unrealistic response times\n",
    "\n",
    "$\\ge 1000 ms$ or $\\le 150ms$"
   ]
  },
  {
   "cell_type": "code",
   "execution_count": 12,
   "id": "33c95300-09e2-4773-8363-790b7fc4f503",
   "metadata": {},
   "outputs": [
    {
     "name": "stdout",
     "output_type": "stream",
     "text": [
      "7671 rows.\n",
      "\n",
      "0% of the trials were removed due to unrealistic response times."
     ]
    }
   ],
   "source": [
    "df <- df[df$reactionTime<=1000 & df$reactionTime >= 150,]\n",
    "nrow_clean <- nrow(df)\n",
    "cat(nrow_clean, \" rows.\\n\\n\", round(100*(1-nrow_clean/nrow_correct), 0), \"% of the trials were removed due to unrealistic response times.\", sep=\"\")"
   ]
  },
  {
   "cell_type": "markdown",
   "id": "333bdbb7-fff6-4dfb-89ca-7fd4938f45ca",
   "metadata": {
    "tags": []
   },
   "source": [
    "### 4.10 Final data"
   ]
  },
  {
   "cell_type": "code",
   "execution_count": 13,
   "id": "2b89d2e8-7870-4471-b886-a6968d574bdc",
   "metadata": {},
   "outputs": [
    {
     "name": "stdout",
     "output_type": "stream",
     "text": [
      "After these exclusions, the number of valid matching trials ranged from 24 to 36 (M = 32.05, SD = 2.981963, Mdn = 32),and of valid non-matching trials from 28 to 35 (M = 31.8, SD = 2.284962, Mdn = 33) per participant"
     ]
    }
   ],
   "source": [
    "valid_match <- df[df$targetValidity==\"valid\" & cueType==\"match\", ]\n",
    "valid_match_n <- aggregate(valid_match$sbj, list(valid_match$sbj), FUN=length)\n",
    "\n",
    "valid_nonmatch <- df[df$targetValidity==\"valid\" & cueType==\"non-match\", ]\n",
    "valid_nonmatch_n <- aggregate(valid_nonmatch$sbj, list(valid_nonmatch$sbj), FUN=length)\n",
    "\n",
    "cat(\"After these exclusions, the number of valid matching trials ranged from \",\n",
    "    min(valid_match_n$x),\" to \", max(valid_match_n$x),\n",
    "    \" (M = \", mean(valid_match_n$x),\", SD = \", sd(valid_match_n$x), \", Mdn = \", median(valid_match_n$x),\n",
    "    \"),and of valid non-matching trials from \", min(valid_nonmatch_n$x), \" to \", max(valid_nonmatch_n$x),\n",
    "    \" (M = \", mean(valid_nonmatch_n$x), \", SD = \", sd(valid_nonmatch_n$x), \", Mdn = \", median(valid_nonmatch_n$x), \") per participant\", sep=\"\")"
   ]
  },
  {
   "cell_type": "code",
   "execution_count": 14,
   "id": "769ed55c-d1c3-4fe4-b45b-5f04781e1c24",
   "metadata": {},
   "outputs": [
    {
     "name": "stdout",
     "output_type": "stream",
     "text": [
      "Our sample size is 20 participants"
     ]
    }
   ],
   "source": [
    "sample_size <- length(unique(df$sbj))\n",
    "cat(\"Our sample size is \", sample_size, \" participants\", sep=\"\")"
   ]
  },
  {
   "cell_type": "markdown",
   "id": "1948cb84-84fa-4dcf-9608-f18e2874bbea",
   "metadata": {},
   "source": [
    "## 5. Power analysis"
   ]
  },
  {
   "cell_type": "markdown",
   "id": "2360b88e-38fe-4358-9337-368b61218096",
   "metadata": {},
   "source": [
    "### 5.1 Create copy of data table with some additional variables for simulation"
   ]
  },
  {
   "cell_type": "code",
   "execution_count": 15,
   "id": "05da4e0b-434a-4950-a5f4-cf02a0eb5111",
   "metadata": {},
   "outputs": [],
   "source": [
    "df_pwr <- df\n",
    "\n",
    "df_pwr$condition <- paste(df_pwr$targetValidity, df_pwr$cueType, sep = \"_\")\n",
    "\n",
    "# Variablen initiieren\n",
    "vpn <- NULL\n",
    "i <- NULL\n",
    "j <- NULL\n",
    "df_pwr$RTnormalized <- 0 \n",
    "\n",
    "for (i in 1:length(unique(df_pwr$sbj))) { # Loop über alle Personen\n",
    "  vpn_temp <- unique(df_pwr$sbj)[i] \n",
    "  for (j in 1:length(unique(df_pwr$condition))) { # Loop über alle Bedingungen pro Person (deshalb genestet [Loop im Loop])\n",
    "    condition_temp <- unique(df_pwr$condition)[j] \n",
    "    meanRT_temp <- mean(df_pwr[condition == condition_temp & sbj == vpn_temp]$reactionTime) # mittlere Reaktionszeit für diese Bedingung ermitteln\n",
    "    df_pwr[condition == condition_temp & sbj == vpn_temp]$RTnormalized <- \n",
    "      df_pwr[condition == condition_temp & sbj == vpn_temp]$reactionTime - meanRT_temp # mittlere Reaktionszeit von den Reaktionszeiten abziehen\n",
    "  }\n",
    "}\n",
    "\n",
    "# Um die Reaktionszeiten wieder realistischer bzwl. leichter interpretierbar zu machen, addieren wir den Mittelwert aller Reaktionzeiten. Die Form der Verteilung bleibt davon unbeeinflusst.\n",
    "df_pwr$RTnormalized_real <- df_pwr$RTnormalized + mean(df_pwr$reactionTime)"
   ]
  },
  {
   "cell_type": "markdown",
   "id": "158bcb95-e1a3-4d12-9dde-b58e5ea23ec4",
   "metadata": {},
   "source": [
    "### 5.2 Create template data table"
   ]
  },
  {
   "cell_type": "code",
   "execution_count": 16,
   "id": "66ec52d8-ec47-4cbf-b5fb-a1e8a2db9e8d",
   "metadata": {},
   "outputs": [],
   "source": [
    "# copy from the real data used for the analysis\n",
    "dt_template <- copy(df_pwr[, c(\"cueType\", \"targetValidity\", \"sbj\")])\n",
    "\n",
    "# remove non-existing levels\n",
    "dt_template$sbj <- factor(dt_template$sbj, levels = (unique(dt_template$sbj)))\n",
    "\n",
    "# change sbj to 1:end\n",
    "levels(dt_template$sbj) <- c(1:length(unique(dt_template$sbj)))"
   ]
  },
  {
   "cell_type": "markdown",
   "id": "ec390205-3dd3-4e51-ba33-c95eaf5757b8",
   "metadata": {},
   "source": [
    "### 5.3 Script"
   ]
  },
  {
   "cell_type": "code",
   "execution_count": 57,
   "id": "81225aac-f7dd-45fc-a63c-c1d54a6017ba",
   "metadata": {},
   "outputs": [],
   "source": [
    "runSimulation <- function(dt_template, df, Nsim, effect, sampleSize, simSampleSize, trialChangeFactor){\n",
    "    simList <- vector(mode = \"list\", length = Nsim)\n",
    "    j <- NULL\n",
    "    i <-  NULL\n",
    "    for (j in 1:Nsim) {\n",
    "      start.time <- Sys.time()\n",
    "      simData <- copy(dt_template)\n",
    "      if (simSampleSize < sampleSize) {\n",
    "        randomSbj <- sample(1:length(unique(simData$sbj)), simSampleSize)\n",
    "        simData <- simData[simData$sbj %in% randomSbj,]\n",
    "        levels(simData$sbj)[levels(simData$sbj) %in% randomSbj] <- c(1:simSampleSize)\n",
    "        } else if (simSampleSize > sampleSize) {\n",
    "          sampleSizeIncrease <- simSampleSize - sampleSize\n",
    "          if (sampleSizeIncrease <= sampleSize) {\n",
    "            randomSbj <- sample(1:length(unique(simData$sbj)), sampleSizeIncrease)\n",
    "            simDataAddition <- simData[simData$sbj %in% randomSbj,]\n",
    "            simDataAddition$sbj <- factor(simDataAddition$sbj, levels = (unique(simDataAddition$sbj)))\n",
    "            levels(simDataAddition$sbj) <- c((sampleSize+1):(sampleSize+sampleSizeIncrease))\n",
    "            simData <- rbind(simData, simDataAddition)\n",
    "          } else if (sampleSizeIncrease > sampleSize) {\n",
    "            simRepetition <- floor(simSampleSize / sampleSize)\n",
    "            simDataBase <- simData[rep(seq_len(nrow(simData)), times = simRepetition), ]\n",
    "            simDataBase$repetition <- rep(1:simRepetition, each = nrow(simData))\n",
    "            simDataBase$sbj_new <- as.numeric(simDataBase$sbj)\n",
    "            simDataBase$sbj_new <- simDataBase$sbj_new + sampleSize * (simDataBase$repetition-1)\n",
    "            simDataBase$sbj <- as.factor(simDataBase$sbj_new)\n",
    "            simDataBase$repetition <- NULL\n",
    "            simDataBase$sbj_new <- NULL\n",
    "            randomSbj <- sample(1:length(unique(simData$sbj)), simSampleSize %% sampleSize)\n",
    "            simDataAddition <- simData[simData$sbj %in% randomSbj,]\n",
    "            simDataAddition$sbj <- factor(simDataAddition$sbj, levels = (unique(simDataAddition$sbj)))\n",
    "            levels(simDataAddition$sbj) <-\n",
    "            c((length(unique(simDataBase$sbj))+1):(sampleSize+sampleSizeIncrease))\n",
    "            simData <- rbind(simDataBase, simDataAddition)\n",
    "          }\n",
    "        }\n",
    "\n",
    "      if (trialChangeFactor < 1) {\n",
    "        simData <- simData[sample(1:nrow(simData), round(nrow(simData) * trialChangeFactor))]\n",
    "      } else if (trialChangeFactor > 1) {\n",
    "        simData <- rbind(simData[rep(seq_len(nrow(simData)), times = floor(trialChangeFactor)), ],\n",
    "                         simData[sample(1:nrow(simData), round(nrow(simData) * (trialChangeFactor-floor(trialChangeFactor))))])\n",
    "      }\n",
    "\n",
    "      for (i in 1:simSampleSize) {\n",
    "        # simulates random interindividual variance\n",
    "        individualRTvariance <-  rnorm(1, mean = 0, sd = 0.05)\n",
    "        RT_var_sd <- 0.015\n",
    "        RT_var1 <- rnorm(1, mean = 0, sd = RT_var_sd)\n",
    "        RT_var2 <- rnorm(1, mean = 0, sd = RT_var_sd)\n",
    "        RT_var3 <- rnorm(1, mean = 0, sd = RT_var_sd)\n",
    "        RT_var4 <- rnorm(1, mean = 0, sd = RT_var_sd)\n",
    "        RT_var5 <- rnorm(1, mean = 0, sd = RT_var_sd)\n",
    "        RT_var6 <- rnorm(1, mean = 0, sd = RT_var_sd)\n",
    "\n",
    "        # simulate reaction times per condition\n",
    "        RT_1 <- sample(df$RTnormalized_real - effect + individualRTvariance,\n",
    "                       nrow(simData[sbj == i & targetValidity == \"valid\" & cueType == \"match\"]),\n",
    "                       replace = TRUE) + RT_var1\n",
    "        RT_2 <- sample(df$RTnormalized_real + individualRTvariance,\n",
    "                       nrow(simData[sbj == i & targetValidity == \"valid\" & cueType == \"non-match\"]),\n",
    "                       replace = TRUE) + RT_var2\n",
    "        RT_3 <- sample(df$RTnormalized_real + individualRTvariance,\n",
    "                       nrow(simData[sbj == i & targetValidity == \"invalid\" & cueType == \"match\"]),\n",
    "                       replace = TRUE) + RT_var3\n",
    "        RT_4 <- sample(df$RTnormalized_real + individualRTvariance,\n",
    "                       nrow(simData[sbj == i & targetValidity == \"invalid\" & cueType == \"non-match\"]),\n",
    "                       replace = TRUE) + RT_var4\n",
    "        RT_5 <- sample(df$RTnormalized_real + individualRTvariance,\n",
    "                       nrow(simData[sbj == i & targetValidity == \"valid\" & cueType == \"inhibition\"]),\n",
    "                       replace = TRUE) + RT_var5\n",
    "        RT_6 <- sample(df$RTnormalized_real + individualRTvariance,\n",
    "                       nrow(simData[sbj == i & targetValidity == \"invalid\" & cueType == \"inhibition\"]),\n",
    "                       replace = TRUE) + RT_var6\n",
    "\n",
    "        # Zuordnung der simulierten Reaktionszeiten zu den Faktorkombinationen\n",
    "        simData[sbj == i & targetValidity == \"valid\" & cueType == \"match\", reactionTime := RT_1]\n",
    "        simData[sbj == i & targetValidity == \"valid\" & cueType == \"non-match\", reactionTime := RT_2]\n",
    "        simData[sbj == i & targetValidity == \"invalid\" & cueType == \"match\", reactionTime := RT_3]\n",
    "        simData[sbj == i & targetValidity == \"invalid\" & cueType == \"non-match\", reactionTime := RT_4]\n",
    "        simData[sbj == i & targetValidity == \"valid\" & cueType == \"inhibition\", reactionTime := RT_5]\n",
    "        simData[sbj == i & targetValidity == \"invalid\" & cueType == \"inhibition\", reactionTime := RT_6]\n",
    "      }\n",
    "\n",
    "      simData[, simNo := j] # ergänzt neue Variable mit der Nummer der Simulation\n",
    "      simList[[j]] <- copy(simData) # speichert das fertige simulierte Datenframe in die Liste mit den Simulationen\n",
    "      end.time <- Sys.time() # End-Zeit der Simulation eines Datensatzes\n",
    "      time.taken <- end.time - start.time # Dauer der Simulation eines Datensatzes\n",
    "    }\n",
    "\n",
    "    simData <- rbindlist(simList)\n",
    "\n",
    "    # Zuletzt vergleichen wir noch die Standardabweichungen der Reaktionzeiten in den Bedingungen der realen und simulierten Daten\n",
    "    data_trimmed_means_sbj <- df[, .(meanRT = mean(reactionTime)),\n",
    "                                           by = .(sbj, cueType, targetValidity)]\n",
    "\n",
    "    data_trimmed_sd <- data_trimmed_means_sbj[, .(SD = sd(meanRT)), by = .(targetValidity, cueType)]\n",
    "\n",
    "    simData_trimmed_means_sbj <- simData[, .(meanRT = mean(reactionTime)),\n",
    "                                         by = .(sbj, targetValidity, cueType, simNo)]\n",
    "\n",
    "    simData_trimmed_sd_sim <- simData_trimmed_means_sbj[, .(SD = sd(meanRT)),\n",
    "                                                        by = .(targetValidity, cueType, simNo)]\n",
    "\n",
    "    simData_trimmed_sd <- simData_trimmed_sd_sim[, .(SD = mean(SD)),\n",
    "                                                 by = .(targetValidity, cueType)]\n",
    "\n",
    "    # Berechnung des Validitätseffeks\n",
    "    simData_means_sbj <- simData[, .(meanRT = mean(reactionTime)),\n",
    "                                 by = .(simNo, targetValidity, cueType, sbj)]\n",
    "\n",
    "    simValidityEffect <- simData_means_sbj[, .(validityEffect = meanRT[targetValidity == \"invalid\"] -\n",
    "                                                                meanRT[targetValidity == \"valid\"]),\n",
    "                                           by = .(cueType, sbj, simNo)]\n",
    "    # Ergebnisse berechnen\n",
    "    simValidityEffect_results <- simValidityEffect[,\n",
    "                                     .(meanValidityEffect = t.test(validityEffect, mu = 0)$estimate,\n",
    "                                       p.value = t.test(validityEffect, mu = 0)$p.value,\n",
    "                                       t.stat = t.test(validityEffect, mu = 0)$statistic),\n",
    "                                     by = .(simNo, cueType)]\n",
    "\n",
    "    sigNiveau <- 0.05 # Signifikanzniveau definieren\n",
    "\n",
    "    powerResults <- simValidityEffect_results[t.stat > 0 & p.value < sigNiveau,\n",
    "                                              .(EffectFound = .N,\n",
    "                                                Nsim = max(simValidityEffect_results$simNo),\n",
    "                                                testPower = .N / max(simValidityEffect_results$simNo)),\n",
    "                                              by = .(cueType)]\n",
    "\n",
    "    return(powerResults)}"
   ]
  },
  {
   "cell_type": "markdown",
   "id": "577ee763-0cb6-4ab5-b13e-465d23ea9c99",
   "metadata": {},
   "source": [
    "### 5.4 Determine power"
   ]
  },
  {
   "cell_type": "code",
   "execution_count": 67,
   "id": "e431c071-fc61-4d0a-99b8-e5a195cb8003",
   "metadata": {},
   "outputs": [
    {
     "name": "stdout",
     "output_type": "stream",
     "text": [
      "A power analysis based on 1000 simulations yielded a power of 0.987 to find a validity effect of 20 ms in the condition positive instruction and match with the sample size of 20 participants."
     ]
    }
   ],
   "source": [
    "condition <- \"match\"\n",
    "\n",
    "n_sims <- 1000\n",
    "effect_est <- 20 # 20 ms validity effect (smallest relevant effect size)\n",
    "sim_sample_size <- sample_size # sample size for simulation (can be changed!)\n",
    "trial_change_factor <- 1 # change factor for trial number to increase or decrease trial number\n",
    "\n",
    "res <- runSimulation(dt_template, df_pwr, n_sims, effect_est, sample_size, sim_sample_size, trial_change_factor)\n",
    "pwr <- res[res$cueType==condition, ]$testPower\n",
    "\n",
    "cat(\n",
    "    \"A power analysis based on \", \n",
    "    n_sims, \" simulations yielded a power of \", \n",
    "    pwr, \" to find a validity effect of \", \n",
    "    effect_est, \" ms in the condition positive instruction and \", \n",
    "    condition, \" with the sample size of \", sample_size, \" participants.\",\n",
    "    sep=\"\"\n",
    ")"
   ]
  },
  {
   "cell_type": "markdown",
   "id": "64c341f1-cfc7-4173-a0f8-c139be918318",
   "metadata": {},
   "source": [
    "## 6. Validity effects"
   ]
  },
  {
   "cell_type": "markdown",
   "id": "6cd7d9cf-2bd8-4fa9-bf23-256c4a381a91",
   "metadata": {},
   "source": [
    "### 6.1 Means, SD, n"
   ]
  },
  {
   "cell_type": "markdown",
   "id": "d6c32bbc-48b7-4b0e-9822-80a32c37a31b",
   "metadata": {},
   "source": [
    "#### 6.1.1 Valid trials"
   ]
  },
  {
   "cell_type": "code",
   "execution_count": 15,
   "id": "8842a08a-fd31-4a84-a3aa-37931102acba",
   "metadata": {},
   "outputs": [
    {
     "data": {
      "text/html": [
       "1920"
      ],
      "text/latex": [
       "1920"
      ],
      "text/markdown": [
       "1920"
      ],
      "text/plain": [
       "[1] 1920"
      ]
     },
     "metadata": {},
     "output_type": "display_data"
    }
   ],
   "source": [
    "nrow(df[df$targetValidity==\"valid\", ])"
   ]
  },
  {
   "cell_type": "code",
   "execution_count": 16,
   "id": "fe2c4a88-d7aa-4dbf-b7b0-7d9b26baa24d",
   "metadata": {},
   "outputs": [
    {
     "data": {
      "text/html": [
       "543.575761691667"
      ],
      "text/latex": [
       "543.575761691667"
      ],
      "text/markdown": [
       "543.575761691667"
      ],
      "text/plain": [
       "[1] 543.5758"
      ]
     },
     "metadata": {},
     "output_type": "display_data"
    }
   ],
   "source": [
    "mean(df[df$targetValidity==\"valid\", reactionTime])"
   ]
  },
  {
   "cell_type": "code",
   "execution_count": 17,
   "id": "f0f181c9-3597-4074-b552-1955e2796458",
   "metadata": {},
   "outputs": [
    {
     "data": {
      "text/html": [
       "113.267426566131"
      ],
      "text/latex": [
       "113.267426566131"
      ],
      "text/markdown": [
       "113.267426566131"
      ],
      "text/plain": [
       "[1] 113.2674"
      ]
     },
     "metadata": {},
     "output_type": "display_data"
    }
   ],
   "source": [
    "sd(df[df$targetValidity==\"valid\", reactionTime])"
   ]
  },
  {
   "cell_type": "markdown",
   "id": "bdeec725-9165-4265-ac49-c586f0409dce",
   "metadata": {},
   "source": [
    "#### 6.1.2 Invalid trials"
   ]
  },
  {
   "cell_type": "code",
   "execution_count": 18,
   "id": "fe0d4070-8fdb-46fb-b0bf-adbc56e83516",
   "metadata": {},
   "outputs": [
    {
     "data": {
      "text/html": [
       "5751"
      ],
      "text/latex": [
       "5751"
      ],
      "text/markdown": [
       "5751"
      ],
      "text/plain": [
       "[1] 5751"
      ]
     },
     "metadata": {},
     "output_type": "display_data"
    }
   ],
   "source": [
    "nrow(df[df$targetValidity==\"invalid\", ])"
   ]
  },
  {
   "cell_type": "code",
   "execution_count": 19,
   "id": "9bf76c63-f6ec-415f-8a1f-d733916f9d21",
   "metadata": {},
   "outputs": [
    {
     "data": {
      "text/html": [
       "559.159064281864"
      ],
      "text/latex": [
       "559.159064281864"
      ],
      "text/markdown": [
       "559.159064281864"
      ],
      "text/plain": [
       "[1] 559.1591"
      ]
     },
     "metadata": {},
     "output_type": "display_data"
    }
   ],
   "source": [
    "mean(df[df$targetValidity==\"invalid\", reactionTime])"
   ]
  },
  {
   "cell_type": "code",
   "execution_count": 20,
   "id": "f5581e6b-5cef-4943-be62-c574264bff76",
   "metadata": {},
   "outputs": [
    {
     "data": {
      "text/html": [
       "104.009845935634"
      ],
      "text/latex": [
       "104.009845935634"
      ],
      "text/markdown": [
       "104.009845935634"
      ],
      "text/plain": [
       "[1] 104.0098"
      ]
     },
     "metadata": {},
     "output_type": "display_data"
    }
   ],
   "source": [
    "sd(df[df$targetValidity==\"invalid\", reactionTime])"
   ]
  },
  {
   "cell_type": "markdown",
   "id": "a629aef8-adb2-4372-897f-e4489cc9a173",
   "metadata": {},
   "source": [
    "### 6.3 Validity effects"
   ]
  },
  {
   "cell_type": "markdown",
   "id": "158da470-a86d-465c-a0f9-b65fa471b0a5",
   "metadata": {},
   "source": [
    "#### 6.3.1 Overall"
   ]
  },
  {
   "cell_type": "code",
   "execution_count": 21,
   "id": "1c2d6e56-fe47-48db-9146-ddf54d08d8a7",
   "metadata": {},
   "outputs": [
    {
     "data": {
      "text/html": [
       "15.5833025901974"
      ],
      "text/latex": [
       "15.5833025901974"
      ],
      "text/markdown": [
       "15.5833025901974"
      ],
      "text/plain": [
       "[1] 15.5833"
      ]
     },
     "metadata": {},
     "output_type": "display_data"
    }
   ],
   "source": [
    "mean(df[df$targetValidity==\"invalid\", reactionTime]) - mean(df[df$targetValidity==\"valid\", reactionTime])"
   ]
  },
  {
   "cell_type": "code",
   "execution_count": 68,
   "id": "11f586ec-c8a3-4ebe-add0-6398996a1d86",
   "metadata": {},
   "outputs": [],
   "source": [
    "# p-values (t-test) here"
   ]
  },
  {
   "cell_type": "markdown",
   "id": "798aad1e-e88e-4845-abce-aece086da4dd",
   "metadata": {},
   "source": [
    "#### 6.3.2 Condition \"match\""
   ]
  },
  {
   "cell_type": "code",
   "execution_count": 22,
   "id": "1baffcc3-e5c2-4442-8f66-8ce7a0b0d17c",
   "metadata": {},
   "outputs": [
    {
     "data": {
      "text/html": [
       "71.0469631146732"
      ],
      "text/latex": [
       "71.0469631146732"
      ],
      "text/markdown": [
       "71.0469631146732"
      ],
      "text/plain": [
       "[1] 71.04696"
      ]
     },
     "metadata": {},
     "output_type": "display_data"
    }
   ],
   "source": [
    "cT <- \"match\"\n",
    "mean(df[df$targetValidity==\"invalid\" & cueType==cT, reactionTime]) - mean(df[df$targetValidity==\"valid\" & cueType==cT, reactionTime])"
   ]
  },
  {
   "cell_type": "code",
   "execution_count": 68,
   "id": "8743e15b-7e47-492b-9260-884ce94952f2",
   "metadata": {},
   "outputs": [],
   "source": [
    "# p-values (t-test) here"
   ]
  },
  {
   "cell_type": "markdown",
   "id": "c7d4f95b-5682-4fad-bdef-d415d8938907",
   "metadata": {},
   "source": [
    "#### 6.3.3 Condition \"non-match\""
   ]
  },
  {
   "cell_type": "code",
   "execution_count": 23,
   "id": "749a6a29-9199-40a8-aab7-afa423b38bb3",
   "metadata": {},
   "outputs": [
    {
     "data": {
      "text/html": [
       "-18.4387794939423"
      ],
      "text/latex": [
       "-18.4387794939423"
      ],
      "text/markdown": [
       "-18.4387794939423"
      ],
      "text/plain": [
       "[1] -18.43878"
      ]
     },
     "metadata": {},
     "output_type": "display_data"
    }
   ],
   "source": [
    "cT <- \"non-match\"\n",
    "mean(df[df$targetValidity==\"invalid\" & cueType==cT, reactionTime]) - mean(df[df$targetValidity==\"valid\" & cueType==cT, reactionTime])"
   ]
  },
  {
   "cell_type": "code",
   "execution_count": 68,
   "id": "e73a86e4-066b-46d0-9595-cb58bca43a41",
   "metadata": {},
   "outputs": [],
   "source": [
    "# p-values (t-test) here"
   ]
  },
  {
   "cell_type": "markdown",
   "id": "7d7a9b7d-f8ef-4ded-876b-25a4e9352cd1",
   "metadata": {},
   "source": [
    "#### 6.3.4 Condition \"inhibition\""
   ]
  },
  {
   "cell_type": "code",
   "execution_count": 24,
   "id": "1d8a39ec-b635-49dc-879c-e9efe5ec6f04",
   "metadata": {},
   "outputs": [
    {
     "data": {
      "text/html": [
       "-5.31709557403747"
      ],
      "text/latex": [
       "-5.31709557403747"
      ],
      "text/markdown": [
       "-5.31709557403747"
      ],
      "text/plain": [
       "[1] -5.317096"
      ]
     },
     "metadata": {},
     "output_type": "display_data"
    }
   ],
   "source": [
    "cT <- \"inhibition\"\n",
    "mean(df[df$targetValidity==\"invalid\" & cueType==cT, reactionTime]) - mean(df[df$targetValidity==\"valid\" & cueType==cT, reactionTime])"
   ]
  },
  {
   "cell_type": "code",
   "execution_count": 68,
   "id": "d8447e97-bc1b-4007-8c24-98fab22fa3a7",
   "metadata": {},
   "outputs": [],
   "source": [
    "# p-values (t-test) here"
   ]
  },
  {
   "cell_type": "markdown",
   "id": "a2ca5a57-c0e0-4f4f-93e6-f4b9ef7c69cd",
   "metadata": {},
   "source": [
    "## 7. Visualization"
   ]
  },
  {
   "cell_type": "code",
   "execution_count": 25,
   "id": "93a9560c-dd30-4e1f-8320-a8c0a99b40dc",
   "metadata": {},
   "outputs": [
    {
     "data": {
      "image/png": "[encoded data removed]",
      "text/plain": [
       "plot without title"
      ]
     },
     "metadata": {},
     "output_type": "display_data"
    }
   ],
   "source": [
    "ggplot(df, aes(x=targetValidity, y=reactionTime)) + \n",
    "geom_violin(aes(fill=targetValidity), alpha=0.7) +\n",
    "facet_wrap(~ cueType) +\n",
    "scale_fill_viridis(discrete=TRUE) +\n",
    "xlab(\"\") +\n",
    "ylab(\"Reaction time (ms)\") + \n",
    "labs(title=\"Distribution of reaction times depending on experimental condition\", fill = \"Target validity\") +\n",
    "theme(axis.title.x=element_blank(),\n",
    "        axis.text.x=element_blank(),\n",
    "        axis.ticks.x=element_blank())"
   ]
  },
  {
   "cell_type": "markdown",
   "id": "170dbefa-760b-48c8-8fe1-86a620e0e9af",
   "metadata": {},
   "source": [
    "Validity effects are only visible in the condition with cue-type \"match\"."
   ]
  }
 ],
 "metadata": {
  "kernelspec": {
   "display_name": "R",
   "language": "R",
   "name": "ir"
  },
  "language_info": {
   "codemirror_mode": "r",
   "file_extension": ".r",
   "mimetype": "text/x-r-source",
   "name": "R",
   "pygments_lexer": "r",
   "version": "3.6.1"
  }
 },
 "nbformat": 4,
 "nbformat_minor": 5
}
