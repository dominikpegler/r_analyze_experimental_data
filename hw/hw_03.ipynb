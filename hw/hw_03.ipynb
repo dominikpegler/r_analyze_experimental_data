{
 "cells": [
  {
   "cell_type": "markdown",
   "id": "1fab35e6-dee1-4032-9ae0-941839fb217b",
   "metadata": {},
   "source": [
    "# homework 1\n",
    "\n",
    "#### Dominik Pegler  \n",
    "#### 2022-06-05\n",
    "\n",
    "Due: June 05 2022"
   ]
  },
  {
   "cell_type": "markdown",
   "id": "15f5993d-b2e0-47c9-8774-3e2193b2c6a3",
   "metadata": {},
   "source": [
    "## Prepare data"
   ]
  },
  {
   "cell_type": "code",
   "execution_count": 58,
   "id": "f007e14e-328c-4f3f-bf6a-2b67f757018e",
   "metadata": {},
   "outputs": [],
   "source": [
    "library(ggplot2)\n",
    "\n",
    "filelist = list.files(pattern = \".*.txt\")\n",
    "datalist = lapply(filelist, function(x)read.table(x, header=T)) \n",
    "df <- do.call(\"rbind\", datalist)\n",
    "\n",
    "df$sbj <- factor(df$sbj)\n",
    "\n",
    "df$answerCorrect <- factor(df$answerCorrect,levels=c(0,1,99),labels=c(\"incorrect\",\"correct\",\"timeout\"))\n",
    "\n",
    "# eliminate subject 12\n",
    "df <- df[df$sbj != \"12\",]\n",
    "\n",
    "# All subjects have responded 320 times\n",
    "\n",
    "# ## Data cleaning II\n",
    "\n",
    "# eliminate participants with\n",
    "# * too long reaction time (time-out)  \n",
    "# * reaction time < 0.150s  \n",
    "# * reaction time > 1.000s\n",
    "\n",
    "df <- df[df$answerCorrect!=\"timeout\" & df$reactionTime<=1 & df$reactionTime >= 0.15,]\n",
    "\n",
    "## Split data set and compare means\n",
    "\n",
    "# Split into incorrect and correct answers\n",
    "\n",
    "df_correct <- df[df$answerCorrect==\"correct\",]\n",
    "df_incorrect <- df[df$answerCorrect==\"incorrect\",]\n",
    "\n",
    "## Bonus: Validity effect\n",
    "\n",
    "# 1) per subject for all conditions \n",
    "# 2) total for all conditions\n",
    "\n",
    "valid <- df_correct[df_correct$targetValidity==\"valid\",]\n",
    "valid <- aggregate(valid$reactionTime, list(valid$sbj), FUN=mean) \n",
    "\n",
    "invalid <- df_correct[df_correct$targetValidity==\"invalid\",]\n",
    "invalid <- aggregate(invalid$reactionTime, list(invalid$sbj), FUN=mean) "
   ]
  },
  {
   "cell_type": "code",
   "execution_count": 59,
   "id": "c6ebd761-2ac9-41ca-be03-e9eeed9119a7",
   "metadata": {},
   "outputs": [
    {
     "data": {
      "text/html": [
       "0.00832952654477126"
      ],
      "text/latex": [
       "0.00832952654477126"
      ],
      "text/markdown": [
       "0.00832952654477126"
      ],
      "text/plain": [
       "[1] 0.008329527"
      ]
     },
     "metadata": {},
     "output_type": "display_data"
    }
   ],
   "source": [
    "# Overall mean difference\n",
    "\n",
    "mean(invalid$x - valid$x)"
   ]
  },
  {
   "cell_type": "markdown",
   "id": "ebf521b9-1d85-45ab-8672-a6cef70bf7bc",
   "metadata": {},
   "source": [
    "**Simulate the design and data of your experiment (factors and number of trials per experimental condition) 1000 times to estimate the statistical power under the following conditions.**\n",
    "\n",
    "1. Determine the statistical power of your experiment to find a validity effect of 20 ms.\n",
    "2. How small can the validity effect be to achieve a test power of 80%.\n",
    "3. How small can the validity effect be to achieve a test power of 90%.\n",
    "4. Finds the minimum number of participants needed to find an effect of 20 ms with a test power of 90%. \n",
    "5. Finds the average minimum number of valid trials per cue condition needed to find an effect of 20 ms with a test power of 90%. To do this, you can adjust the trialChangeFactor variable to change the number of trials per participant. The variable is a multiplier, so a trialChangeFactor of 1.5 means one and a half times as many trials per participant as in your experiment, 0.5 means half as many trials, etc. The ratio of valid and invalid trials remains the same. You can calculate the average number of valid runs per person by determining this in your data set and multiplying it by the trialChangeFactor or by determining it from the simulated data."
   ]
  },
  {
   "cell_type": "markdown",
   "id": "a5a2c415-8253-4643-94a5-d543e6fe29ac",
   "metadata": {},
   "source": [
    "## 1. Determine the statistical power of your experiment to find a validity effect of 20 ms.\n",
    "\n",
    "Note: I calculate this here only for correct responses, per observation (not per subject)"
   ]
  },
  {
   "cell_type": "code",
   "execution_count": 101,
   "id": "3706b294-6cff-4a6a-bd31-298024275b5e",
   "metadata": {},
   "outputs": [],
   "source": [
    "library(pwr)"
   ]
  },
  {
   "cell_type": "markdown",
   "id": "41016de8-b9f5-4e1d-9fd6-30e15d0ef2dc",
   "metadata": {},
   "source": [
    "Just show the real difference"
   ]
  },
  {
   "cell_type": "code",
   "execution_count": 80,
   "id": "15ff2ccc-cb7f-45c1-8680-c0b83cf3dd18",
   "metadata": {},
   "outputs": [
    {
     "data": {
      "text/html": [
       "0.593515352682957"
      ],
      "text/latex": [
       "0.593515352682957"
      ],
      "text/markdown": [
       "0.593515352682957"
      ],
      "text/plain": [
       "[1] 0.5935154"
      ]
     },
     "metadata": {},
     "output_type": "display_data"
    }
   ],
   "source": [
    "mean_valid <- mean(df[df$answerCorrect==\"correct\" & df$targetValidity==\"valid\", \"reactionTime\"])\n",
    "mean_valid"
   ]
  },
  {
   "cell_type": "code",
   "execution_count": 81,
   "id": "823f2a21-2077-4d94-ad9e-8b7e3a07fcdc",
   "metadata": {},
   "outputs": [
    {
     "data": {
      "text/html": [
       "0.603048407185373"
      ],
      "text/latex": [
       "0.603048407185373"
      ],
      "text/markdown": [
       "0.603048407185373"
      ],
      "text/plain": [
       "[1] 0.6030484"
      ]
     },
     "metadata": {},
     "output_type": "display_data"
    }
   ],
   "source": [
    "mean_invalid <- mean(df[df$answerCorrect==\"correct\" & df$targetValidity==\"invalid\", \"reactionTime\"])\n",
    "mean_invalid"
   ]
  },
  {
   "cell_type": "code",
   "execution_count": 112,
   "id": "c28c36a6-4651-4223-91ad-986fcd292b3c",
   "metadata": {},
   "outputs": [
    {
     "name": "stdout",
     "output_type": "stream",
     "text": [
      "0.009533055 s\n",
      "9.533055 ms"
     ]
    }
   ],
   "source": [
    "cat(mean_invalid  - mean_valid, \"s\\n\")\n",
    "cat(1000*(mean_invalid  - mean_valid), \"ms\")"
   ]
  },
  {
   "cell_type": "markdown",
   "id": "4105cfc7-c55d-4862-85bf-f7a48529b3c4",
   "metadata": {},
   "source": [
    "Compute cohen's and power "
   ]
  },
  {
   "cell_type": "code",
   "execution_count": 106,
   "id": "332b5e00-611c-4c82-8076-2ce2e4ce800e",
   "metadata": {},
   "outputs": [
    {
     "data": {
      "text/plain": [
       "\n",
       "     Two-sample t test power calculation \n",
       "\n",
       "              n = 4460\n",
       "              d = 0.1509994\n",
       "      sig.level = 0.05\n",
       "          power = 0.9999999\n",
       "    alternative = two.sided\n",
       "\n",
       "NOTE: n is number in *each* group\n"
      ]
     },
     "metadata": {},
     "output_type": "display_data"
    }
   ],
   "source": [
    "mean_diff_ <- 0.020 # seconds\n",
    "\n",
    "sd_pool <- sqrt((sd_valid^2 + sd_invalid^2) / 2)\n",
    "cohens_d_ <- mean_diff_ / sd_pool\n",
    "n_obs <- nrow(df[df$answerCorrect==\"correct\" & df$targetValidity==\"valid\", ]) + nrow(df[df$answerCorrect==\"correct\" & df$targetValidity==\"invalid\", ])\n",
    "\n",
    "pwr.t.test(d=cohens_d_, n=n_obs)"
   ]
  },
  {
   "cell_type": "markdown",
   "id": "db3558a6-8745-4ea0-84fa-0b5b959278f4",
   "metadata": {},
   "source": [
    "Power is close to 100% if we use number of observations (every subject has been observed multiple times) as our sample size and we only take correct responses into account."
   ]
  }
 ],
 "metadata": {
  "kernelspec": {
   "display_name": "R",
   "language": "R",
   "name": "ir"
  },
  "language_info": {
   "codemirror_mode": "r",
   "file_extension": ".r",
   "mimetype": "text/x-r-source",
   "name": "R",
   "pygments_lexer": "r",
   "version": "3.6.1"
  }
 },
 "nbformat": 4,
 "nbformat_minor": 5
}
