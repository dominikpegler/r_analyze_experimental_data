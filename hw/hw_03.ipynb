{
 "cells": [
  {
   "cell_type": "markdown",
   "id": "1fab35e6-dee1-4032-9ae0-941839fb217b",
   "metadata": {},
   "source": [
    "# homework 1\n",
    "\n",
    "#### Dominik Pegler  \n",
    "#### 2022-06-05\n",
    "\n",
    "Due: June 05 2022"
   ]
  },
  {
   "cell_type": "markdown",
   "id": "15f5993d-b2e0-47c9-8774-3e2193b2c6a3",
   "metadata": {},
   "source": [
    "## Prepare data"
   ]
  },
  {
   "cell_type": "code",
   "execution_count": 24,
   "id": "f007e14e-328c-4f3f-bf6a-2b67f757018e",
   "metadata": {},
   "outputs": [],
   "source": [
    "library(ggplot2)\n",
    "\n",
    "filelist = list.files(pattern = \".*.txt\")\n",
    "datalist = lapply(filelist, function(x)read.table(x, header=T)) \n",
    "df <- do.call(\"rbind\", datalist)\n",
    "\n",
    "df$sbj <- factor(df$sbj)\n",
    "\n",
    "df$answerCorrect <- factor(df$answerCorrect,levels=c(0,1,99),labels=c(\"incorrect\",\"correct\",\"timeout\"))\n",
    "\n",
    "# eliminate subject 12\n",
    "df <- df[df$sbj != \"12\",]\n",
    "df <- df[df$answerCorrect==\"correct\" & df$reactionTime<=1 & df$reactionTime >= 0.15,]"
   ]
  },
  {
   "cell_type": "markdown",
   "id": "ebf521b9-1d85-45ab-8672-a6cef70bf7bc",
   "metadata": {},
   "source": [
    "**Simulate the design and data of your experiment (factors and number of trials per experimental condition) 1000 times to estimate the statistical power under the following conditions.**\n",
    "\n",
    "1. Determine the statistical power of your experiment to find a validity effect of 20 ms.\n",
    "2. How small can the validity effect be to achieve a test power of 80%.\n",
    "3. How small can the validity effect be to achieve a test power of 90%.\n",
    "4. Finds the minimum number of participants needed to find an effect of 20 ms with a test power of 90%. \n",
    "5. Finds the average minimum number of valid trials per cue condition needed to find an effect of 20 ms with a test power of 90%. To do this, you can adjust the trialChangeFactor variable to change the number of trials per participant. The variable is a multiplier, so a trialChangeFactor of 1.5 means one and a half times as many trials per participant as in your experiment, 0.5 means half as many trials, etc. The ratio of valid and invalid trials remains the same. You can calculate the average number of valid runs per person by determining this in your data set and multiplying it by the trialChangeFactor or by determining it from the simulated data."
   ]
  },
  {
   "cell_type": "markdown",
   "id": "0840333d-60a2-4e8d-921c-f82f81c6a9c5",
   "metadata": {},
   "source": [
    "---"
   ]
  },
  {
   "cell_type": "markdown",
   "id": "a5a2c415-8253-4643-94a5-d543e6fe29ac",
   "metadata": {
    "tags": []
   },
   "source": [
    "## 1. Determine the statistical power of your experiment to find a validity effect of 20 ms."
   ]
  },
  {
   "cell_type": "code",
   "execution_count": null,
   "id": "c0ffb836-96b1-4549-b0e6-41c53411c5e9",
   "metadata": {},
   "outputs": [],
   "source": []
  },
  {
   "cell_type": "markdown",
   "id": "941b5782-159a-4167-a5ad-b03c73f1733f",
   "metadata": {},
   "source": [
    "## 2. How small can the validity effect be to achieve a test power of 80%"
   ]
  },
  {
   "cell_type": "code",
   "execution_count": null,
   "id": "25fad703-826a-415e-ab79-4e442af08392",
   "metadata": {},
   "outputs": [],
   "source": []
  },
  {
   "cell_type": "markdown",
   "id": "eddac7c3-bb14-4665-b392-262f6d869bc9",
   "metadata": {},
   "source": [
    "## 3. How small can the validity effect be to achieve a test power of 90%"
   ]
  },
  {
   "cell_type": "code",
   "execution_count": null,
   "id": "5bb1d23d-fa40-46b9-8cd3-f5e46940cd3a",
   "metadata": {},
   "outputs": [],
   "source": []
  },
  {
   "cell_type": "markdown",
   "id": "b8850fb3-8a7a-4fce-94d1-edf681cdb71d",
   "metadata": {},
   "source": [
    "## 4. Find the minimum number of participants needed to find an effect of 20 ms with a test power of 90%"
   ]
  },
  {
   "cell_type": "code",
   "execution_count": null,
   "id": "fb8063c3-26f4-4183-89d1-1f6e44b3e761",
   "metadata": {},
   "outputs": [],
   "source": []
  },
  {
   "cell_type": "markdown",
   "id": "d8697ed7-8801-4896-9cc5-b50b53529c67",
   "metadata": {},
   "source": [
    "## 5. Find the average minimum number of valid trials per cue ...\n",
    "... condition needed to find an effect of 20 ms with a test power of 90%. To do this, you can adjust the trialChangeFactor variable to change the number of trials per participant. The variable is a multiplier, so a trialChangeFactor of 1.5 means one and a half times as many trials per participant as in your experiment, 0.5 means half as many trials, etc. The ratio of valid and invalid trials remains the same. You can calculate the average number of valid runs per person by determining this in your data set and multiplying it by the trialChangeFactor or by determining it from the simulated data.\n",
    "\n"
   ]
  },
  {
   "cell_type": "code",
   "execution_count": null,
   "id": "55512a31-00df-4696-875c-a29fd69bd395",
   "metadata": {},
   "outputs": [],
   "source": []
  }
 ],
 "metadata": {
  "kernelspec": {
   "display_name": "R",
   "language": "R",
   "name": "ir"
  },
  "language_info": {
   "codemirror_mode": "r",
   "file_extension": ".r",
   "mimetype": "text/x-r-source",
   "name": "R",
   "pygments_lexer": "r",
   "version": "3.6.1"
  }
 },
 "nbformat": 4,
 "nbformat_minor": 5
}
